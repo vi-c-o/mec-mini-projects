{
 "cells": [
  {
   "cell_type": "markdown",
   "metadata": {
    "application/vnd.databricks.v1+cell": {
     "cellMetadata": {
      "byteLimit": 2048000,
      "rowLimit": 10000
     },
     "inputWidgets": {},
     "nuid": "e8a6bb73-b49c-47d8-8005-e0df132937a0",
     "showTitle": false,
     "title": ""
    },
    "colab_type": "text",
    "id": "q0ap-hmpXu-s"
   },
   "source": [
    "# Analyzing Web Server Logs with Apache Spark\n",
    "\n",
    "Apache Spark is an excellent and ideal framework for wrangling, analyzing and modeling on structured and unstructured data - at scale! In this mini-project, we will be focusing on one of the most popular use-cases in the industry - log analytics.\n",
    "\n",
    "Typically, server logs are a very common data source in enterprises and often contain a gold mine of actionable insights and information. Log data comes from many sources in an enterprise, such as the web, client and compute servers, applications, user-generated content, flat files. They can be used for monitoring servers, improving business and customer intelligence, building recommendation systems, fraud detection, and much more.\n",
    "\n",
    "Spark allows you to dump and store your logs in files on disk cheaply, while still providing rich APIs to perform data analysis at scale. This mini-project will show you how to use Apache Spark on real-world production logs from NASA.\n",
    "You will complete the extract, transform, and load (ETL) process in this Apache Spark enviroment. During this process, you will learn why the ETL process is so crucial to the quality of the machine learning work we will be doing later on.\n",
    "\n",
    "\n",
    "There is a total of 15 questions for you to solve along with some interactive examples which will help you learn aspects of leveraging spark for analyzing over 3 million logs at scale.\n",
    "\n",
    "Remember to focus on the __`# TODO: Replace <FILL IN> with appropriate code`__ sections to fill them up with necessary code to solve the desired questions in the notebook"
   ]
  },
  {
   "cell_type": "markdown",
   "metadata": {
    "application/vnd.databricks.v1+cell": {
     "cellMetadata": {
      "byteLimit": 2048000,
      "rowLimit": 10000
     },
     "inputWidgets": {},
     "nuid": "d2a74318-6b74-45b9-889f-bb1464b1a2de",
     "showTitle": false,
     "title": ""
    },
    "colab_type": "text",
    "id": "6IkR5OAXYBVV"
   },
   "source": [
    "# Data extraction:"
   ]
  },
  {
   "cell_type": "markdown",
   "metadata": {
    "application/vnd.databricks.v1+cell": {
     "cellMetadata": {
      "byteLimit": 2048000,
      "rowLimit": 10000
     },
     "inputWidgets": {},
     "nuid": "9ce95dab-c139-4a56-a530-35a0148aafc2",
     "showTitle": false,
     "title": ""
    },
    "colab_type": "text",
    "id": "W4XXOPlzXu-7"
   },
   "source": [
    "# Step 1 - Loading up Dependencies"
   ]
  },
  {
   "cell_type": "code",
   "execution_count": null,
   "metadata": {
    "application/vnd.databricks.v1+cell": {
     "cellMetadata": {
      "byteLimit": 2048000,
      "rowLimit": 10000
     },
     "inputWidgets": {},
     "nuid": "3be2ad48-3c08-4fcd-b8c7-78243d2b32bf",
     "showTitle": false,
     "title": ""
    },
    "colab": {},
    "colab_type": "code",
    "id": "zYGRL15uXu--",
    "outputId": "34c065c7-f451-4543-dde3-5ddbbcada8c6"
   },
   "outputs": [
    {
     "data": {
      "text/html": [
       "\n",
       "            <div>\n",
       "                <p><b>SparkSession - hive</b></p>\n",
       "                \n",
       "        <div>\n",
       "            <p><b>SparkContext</b></p>\n",
       "\n",
       "            <p><a href=\"/?o=6514113524123384#setting/sparkui/0518-150349-1oxmfxmk/driver-2297552243037716461\">Spark UI</a></p>\n",
       "\n",
       "            <dl>\n",
       "              <dt>Version</dt>\n",
       "                <dd><code>v3.3.2</code></dd>\n",
       "              <dt>Master</dt>\n",
       "                <dd><code>local[8]</code></dd>\n",
       "              <dt>AppName</dt>\n",
       "                <dd><code>Databricks Shell</code></dd>\n",
       "            </dl>\n",
       "        </div>\n",
       "        \n",
       "            </div>\n",
       "        "
      ]
     },
     "metadata": {
      "application/vnd.databricks.v1+output": {
       "addedWidgets": {},
       "arguments": {},
       "data": "\n            <div>\n                <p><b>SparkSession - hive</b></p>\n                \n        <div>\n            <p><b>SparkContext</b></p>\n\n            <p><a href=\"/?o=6514113524123384#setting/sparkui/0518-150349-1oxmfxmk/driver-2297552243037716461\">Spark UI</a></p>\n\n            <dl>\n              <dt>Version</dt>\n                <dd><code>v3.3.2</code></dd>\n              <dt>Master</dt>\n                <dd><code>local[8]</code></dd>\n              <dt>AppName</dt>\n                <dd><code>Databricks Shell</code></dd>\n            </dl>\n        </div>\n        \n            </div>\n        ",
       "datasetInfos": [],
       "metadata": {},
       "removedWidgets": [],
       "textData": null,
       "type": "htmlSandbox"
      }
     },
     "output_type": "display_data"
    }
   ],
   "source": [
    "spark\n"
   ]
  },
  {
   "cell_type": "code",
   "execution_count": null,
   "metadata": {
    "application/vnd.databricks.v1+cell": {
     "cellMetadata": {
      "byteLimit": 2048000,
      "rowLimit": 10000
     },
     "inputWidgets": {},
     "nuid": "9f360e6d-af66-4fbe-8c96-16e4856e9969",
     "showTitle": false,
     "title": ""
    },
    "colab": {},
    "colab_type": "code",
    "id": "TQ9VOjOGXu_N",
    "outputId": "8c2ee3dc-5d83-475e-c77a-3b83e98cff42"
   },
   "outputs": [
    {
     "name": "stdout",
     "output_type": "stream",
     "text": [
      "Out[79]: <pyspark.sql.context.SQLContext at 0x7f0ed0519370>"
     ]
    }
   ],
   "source": [
    "sqlContext"
   ]
  },
  {
   "cell_type": "code",
   "execution_count": null,
   "metadata": {
    "application/vnd.databricks.v1+cell": {
     "cellMetadata": {
      "byteLimit": 2048000,
      "rowLimit": 10000
     },
     "inputWidgets": {},
     "nuid": "eb9bd595-b20a-4e24-83bc-70f6a6d6c8c4",
     "showTitle": false,
     "title": ""
    },
    "colab": {},
    "colab_type": "code",
    "id": "IM6ajIMVXu_V",
    "outputId": "d49062e6-607c-42bf-e2de-5019dee77ce0"
   },
   "outputs": [],
   "source": [
    "if 'sc' not in locals():\n",
    "    from pyspark.context import SparkContext\n",
    "    from pyspark.sql.context import SQLContext\n",
    "    from pyspark.sql.session import SparkSession\n",
    "    \n",
    "    sc = SparkContext()\n",
    "    sqlContext = SQLContext(sc)\n",
    "    spark = SparkSession(sc)"
   ]
  },
  {
   "cell_type": "code",
   "execution_count": null,
   "metadata": {
    "application/vnd.databricks.v1+cell": {
     "cellMetadata": {
      "byteLimit": 2048000,
      "rowLimit": 10000
     },
     "inputWidgets": {},
     "nuid": "dbaf592d-5c52-4fc2-82f8-1accae1a8acb",
     "showTitle": false,
     "title": ""
    },
    "colab": {},
    "colab_type": "code",
    "id": "r3E2N5WCXu_b",
    "outputId": "cb9f5a8a-06b5-407a-c634-a703b3e5b92b"
   },
   "outputs": [],
   "source": [
    "import re\n",
    "import pandas as pd"
   ]
  },
  {
   "cell_type": "code",
   "execution_count": null,
   "metadata": {
    "application/vnd.databricks.v1+cell": {
     "cellMetadata": {
      "byteLimit": 2048000,
      "rowLimit": 10000
     },
     "inputWidgets": {},
     "nuid": "984bdd38-d835-45e7-8ac8-e7da6335e6c9",
     "showTitle": false,
     "title": ""
    },
    "colab": {},
    "colab_type": "code",
    "id": "UupCPIruXu_i",
    "outputId": "ae83b30e-9b7e-458f-fd16-94d9d738e589"
   },
   "outputs": [
    {
     "name": "stdout",
     "output_type": "stream",
     "text": [
      "<re.Match object; span=(0, 25), match=\"I'm searching for a spark\">\n",
      "<re.Match object; span=(25, 36), match=' in PySpark'>\n"
     ]
    }
   ],
   "source": [
    "m = re.finditer(r'.*?(spark).*?', \"I'm searching for a spark in PySpark\", re.I)\n",
    "for match in m:\n",
    "    print(match)"
   ]
  },
  {
   "cell_type": "markdown",
   "metadata": {
    "application/vnd.databricks.v1+cell": {
     "cellMetadata": {
      "byteLimit": 2048000,
      "rowLimit": 10000
     },
     "inputWidgets": {},
     "nuid": "ffa8ed09-2daf-4261-a306-88d38ed4cd0b",
     "showTitle": false,
     "title": ""
    },
    "colab_type": "text",
    "id": "Pln9za4iXu_n"
   },
   "source": [
    "For this mini-project, we will analyze datasets from NASA Kennedy Space Center web server in Florida. The full data set is freely available for download [__here__](http://ita.ee.lbl.gov/html/contrib/NASA-HTTP.html).\n",
    "\n",
    "These two traces contain two month's worth of all HTTP requests to the NASA Kennedy Space Center WWW server in Florida. You can head over to the [__website__](http://ita.ee.lbl.gov/html/contrib/NASA-HTTP.html) and download the following files if needed OR just upload the files we have already provided for you into Domino's Cloud Platform (unless you plan to use Spark locally).\n",
    "\n",
    "- Jul 01 to Jul 31, ASCII format, 20.7 MB gzip compressed, 205.2 MB uncompressed: [ftp://ita.ee.lbl.gov/traces/NASA_access_log_Jul95.gz](ftp://ita.ee.lbl.gov/traces/NASA_access_log_Jul95.gz)\n",
    "- Aug 04 to Aug 31, ASCII format, 21.8 MB gzip compressed, 167.8 MB uncompressed: [ftp://ita.ee.lbl.gov/traces/NASA_access_log_Aug95.gz](ftp://ita.ee.lbl.gov/traces/NASA_access_log_Aug95.gz)\n",
    "\n",
    "Make sure both the data files have been uploaded to Databricks under **\"Data\" > \"DBFS\" > \"Tables\"** as a **.txt** file\n",
    "\n",
    "\n",
    "![DBFS](https://drive.google.com/uc?id=1eE9_CgnUW7psBs_Nlk9qrdD2dXh1sU9A)"
   ]
  },
  {
   "cell_type": "markdown",
   "metadata": {
    "application/vnd.databricks.v1+cell": {
     "cellMetadata": {
      "byteLimit": 2048000,
      "rowLimit": 10000
     },
     "inputWidgets": {},
     "nuid": "b04a2290-6cc8-42fd-afbd-d0cbf2210ecf",
     "showTitle": false,
     "title": ""
    },
    "colab_type": "text",
    "id": "KESqVXmAXu_p"
   },
   "source": [
    "# Step 2 - Loading and Viewing the Log Dataset\n",
    "\n",
    "Given that our data is stored in the following mentioned path, let's load it into a DataFrame. We'll do this in steps. First, we'll use `sqlContext.read.text()` or `spark.read.text()` to read the text file. This will produce a DataFrame with a single string column called `value`."
   ]
  },
  {
   "cell_type": "markdown",
   "metadata": {
    "application/vnd.databricks.v1+cell": {
     "cellMetadata": {
      "byteLimit": 2048000,
      "rowLimit": 10000
     },
     "inputWidgets": {},
     "nuid": "4b787faa-d9bc-449a-b9ff-4a5d488b86fd",
     "showTitle": false,
     "title": ""
    },
    "colab_type": "text",
    "id": "pis2_lWcXu_u"
   },
   "source": [
    "### Taking a look at the metadata of our dataframe"
   ]
  },
  {
   "cell_type": "code",
   "execution_count": null,
   "metadata": {
    "application/vnd.databricks.v1+cell": {
     "cellMetadata": {
      "byteLimit": 2048000,
      "rowLimit": 10000
     },
     "inputWidgets": {},
     "nuid": "33c9cb04-4090-47ed-ac32-ef58f7eb2ed5",
     "showTitle": false,
     "title": ""
    },
    "colab": {},
    "colab_type": "code",
    "id": "f4-znXsmXu_w",
    "outputId": "5c326d84-2124-47c4-c63f-e70665bfb820"
   },
   "outputs": [
    {
     "name": "stdout",
     "output_type": "stream",
     "text": [
      "root\n",
      " |-- value: string (nullable = true)\n",
      "\n"
     ]
    }
   ],
   "source": [
    "# make sure you have upload NASA_access_log_Aug95.txt and NASA_access_log_Jul95.txt onto Spark before you run the following code\n",
    "\n",
    "base_df = spark.read.text('dbfs:/FileStore/tables/*.txt')\n",
    "base_df.printSchema()"
   ]
  },
  {
   "cell_type": "code",
   "execution_count": null,
   "metadata": {
    "application/vnd.databricks.v1+cell": {
     "cellMetadata": {
      "byteLimit": 2048000,
      "rowLimit": 10000
     },
     "inputWidgets": {},
     "nuid": "a1d5484d-f8c3-4d7d-8941-9477fc339428",
     "showTitle": false,
     "title": ""
    },
    "colab": {},
    "colab_type": "code",
    "id": "IBHQ8QQkXu_0",
    "outputId": "14c57eda-586c-4a28-9e1c-df9364bf0ff8"
   },
   "outputs": [
    {
     "name": "stdout",
     "output_type": "stream",
     "text": [
      "Out[84]: pyspark.sql.dataframe.DataFrame"
     ]
    }
   ],
   "source": [
    "type(base_df)"
   ]
  },
  {
   "cell_type": "markdown",
   "metadata": {
    "application/vnd.databricks.v1+cell": {
     "cellMetadata": {
      "byteLimit": 2048000,
      "rowLimit": 10000
     },
     "inputWidgets": {},
     "nuid": "fb8ec59c-68ff-4d7a-b374-76a0c11c6481",
     "showTitle": false,
     "title": ""
    },
    "colab_type": "text",
    "id": "gOKkUBQvXu_5"
   },
   "source": [
    "You can also convert a dataframe to an RDD if needed"
   ]
  },
  {
   "cell_type": "code",
   "execution_count": null,
   "metadata": {
    "application/vnd.databricks.v1+cell": {
     "cellMetadata": {
      "byteLimit": 2048000,
      "rowLimit": 10000
     },
     "inputWidgets": {},
     "nuid": "8db15c62-a1ca-473d-8582-a1de344c7498",
     "showTitle": false,
     "title": ""
    },
    "colab": {},
    "colab_type": "code",
    "id": "hMByB80sXu_6",
    "outputId": "29f8e5c6-aecf-4f81-d1e8-40a5ef92eb18"
   },
   "outputs": [
    {
     "name": "stdout",
     "output_type": "stream",
     "text": [
      "Out[85]: pyspark.rdd.RDD"
     ]
    }
   ],
   "source": [
    "base_df_rdd = base_df.rdd\n",
    "type(base_df_rdd)"
   ]
  },
  {
   "cell_type": "markdown",
   "metadata": {
    "application/vnd.databricks.v1+cell": {
     "cellMetadata": {
      "byteLimit": 2048000,
      "rowLimit": 10000
     },
     "inputWidgets": {},
     "nuid": "981bf0b5-037e-4aa6-b414-3f0a8c30b61f",
     "showTitle": false,
     "title": ""
    },
    "colab_type": "text",
    "id": "oi1QtXBhXvAB"
   },
   "source": [
    "### Viewing sample data in our dataframe\n",
    "Looks like it needs to be wrangled and parsed!"
   ]
  },
  {
   "cell_type": "code",
   "execution_count": null,
   "metadata": {
    "application/vnd.databricks.v1+cell": {
     "cellMetadata": {
      "byteLimit": 2048000,
      "rowLimit": 10000
     },
     "inputWidgets": {},
     "nuid": "a294a3cd-22ba-444c-bb2d-a11b1ff1927d",
     "showTitle": false,
     "title": ""
    },
    "colab": {},
    "colab_type": "code",
    "id": "iertYldRXvAD",
    "outputId": "cf7a1843-1287-455e-a32c-e67a498a89c0"
   },
   "outputs": [
    {
     "name": "stdout",
     "output_type": "stream",
     "text": [
      "+--------------------------------------------------------------------------------------------------------------------------+\n",
      "|value                                                                                                                     |\n",
      "+--------------------------------------------------------------------------------------------------------------------------+\n",
      "|in24.inetnebr.com - - [01/Aug/1995:00:00:01 -0400] \"GET /shuttle/missions/sts-68/news/sts-68-mcc-05.txt HTTP/1.0\" 200 1839|\n",
      "|uplherc.upl.com - - [01/Aug/1995:00:00:07 -0400] \"GET / HTTP/1.0\" 304 0                                                   |\n",
      "|uplherc.upl.com - - [01/Aug/1995:00:00:08 -0400] \"GET /images/ksclogo-medium.gif HTTP/1.0\" 304 0                          |\n",
      "|uplherc.upl.com - - [01/Aug/1995:00:00:08 -0400] \"GET /images/MOSAIC-logosmall.gif HTTP/1.0\" 304 0                        |\n",
      "|uplherc.upl.com - - [01/Aug/1995:00:00:08 -0400] \"GET /images/USA-logosmall.gif HTTP/1.0\" 304 0                           |\n",
      "|ix-esc-ca2-07.ix.netcom.com - - [01/Aug/1995:00:00:09 -0400] \"GET /images/launch-logo.gif HTTP/1.0\" 200 1713              |\n",
      "|uplherc.upl.com - - [01/Aug/1995:00:00:10 -0400] \"GET /images/WORLD-logosmall.gif HTTP/1.0\" 304 0                         |\n",
      "|slppp6.intermind.net - - [01/Aug/1995:00:00:10 -0400] \"GET /history/skylab/skylab.html HTTP/1.0\" 200 1687                 |\n",
      "|piweba4y.prodigy.com - - [01/Aug/1995:00:00:10 -0400] \"GET /images/launchmedium.gif HTTP/1.0\" 200 11853                   |\n",
      "|slppp6.intermind.net - - [01/Aug/1995:00:00:11 -0400] \"GET /history/skylab/skylab-small.gif HTTP/1.0\" 200 9202            |\n",
      "+--------------------------------------------------------------------------------------------------------------------------+\n",
      "only showing top 10 rows\n",
      "\n"
     ]
    }
   ],
   "source": [
    "base_df.show(10, truncate=False)"
   ]
  },
  {
   "cell_type": "markdown",
   "metadata": {
    "application/vnd.databricks.v1+cell": {
     "cellMetadata": {
      "byteLimit": 2048000,
      "rowLimit": 10000
     },
     "inputWidgets": {},
     "nuid": "c0c92f4b-fa53-4f89-8b3e-e1cb3ead31fd",
     "showTitle": false,
     "title": ""
    },
    "colab_type": "text",
    "id": "T9aeiekzXvAJ"
   },
   "source": [
    "Getting data from an RDD is slightly different. You can see how the data representation is different in the following RDD"
   ]
  },
  {
   "cell_type": "code",
   "execution_count": null,
   "metadata": {
    "application/vnd.databricks.v1+cell": {
     "cellMetadata": {
      "byteLimit": 2048000,
      "rowLimit": 10000
     },
     "inputWidgets": {},
     "nuid": "01b147d7-b0b0-4061-aa96-65b9408da035",
     "showTitle": false,
     "title": ""
    },
    "colab": {},
    "colab_type": "code",
    "id": "PCdKKlCeXvAK",
    "outputId": "58876be0-2960-4df1-cefa-75daa1462dbd"
   },
   "outputs": [
    {
     "name": "stdout",
     "output_type": "stream",
     "text": [
      "Out[87]: [Row(value='in24.inetnebr.com - - [01/Aug/1995:00:00:01 -0400] \"GET /shuttle/missions/sts-68/news/sts-68-mcc-05.txt HTTP/1.0\" 200 1839'),\n",
      " Row(value='uplherc.upl.com - - [01/Aug/1995:00:00:07 -0400] \"GET / HTTP/1.0\" 304 0'),\n",
      " Row(value='uplherc.upl.com - - [01/Aug/1995:00:00:08 -0400] \"GET /images/ksclogo-medium.gif HTTP/1.0\" 304 0'),\n",
      " Row(value='uplherc.upl.com - - [01/Aug/1995:00:00:08 -0400] \"GET /images/MOSAIC-logosmall.gif HTTP/1.0\" 304 0'),\n",
      " Row(value='uplherc.upl.com - - [01/Aug/1995:00:00:08 -0400] \"GET /images/USA-logosmall.gif HTTP/1.0\" 304 0'),\n",
      " Row(value='ix-esc-ca2-07.ix.netcom.com - - [01/Aug/1995:00:00:09 -0400] \"GET /images/launch-logo.gif HTTP/1.0\" 200 1713'),\n",
      " Row(value='uplherc.upl.com - - [01/Aug/1995:00:00:10 -0400] \"GET /images/WORLD-logosmall.gif HTTP/1.0\" 304 0'),\n",
      " Row(value='slppp6.intermind.net - - [01/Aug/1995:00:00:10 -0400] \"GET /history/skylab/skylab.html HTTP/1.0\" 200 1687'),\n",
      " Row(value='piweba4y.prodigy.com - - [01/Aug/1995:00:00:10 -0400] \"GET /images/launchmedium.gif HTTP/1.0\" 200 11853'),\n",
      " Row(value='slppp6.intermind.net - - [01/Aug/1995:00:00:11 -0400] \"GET /history/skylab/skylab-small.gif HTTP/1.0\" 200 9202')]"
     ]
    }
   ],
   "source": [
    "base_df_rdd.take(10)"
   ]
  },
  {
   "cell_type": "markdown",
   "metadata": {
    "application/vnd.databricks.v1+cell": {
     "cellMetadata": {
      "byteLimit": 2048000,
      "rowLimit": 10000
     },
     "inputWidgets": {},
     "nuid": "b8fc4eb4-229c-45ee-b7a7-527c6e9bac62",
     "showTitle": false,
     "title": ""
    },
    "colab_type": "text",
    "id": "asaanbGIYfR8"
   },
   "source": [
    "# Data transformation"
   ]
  },
  {
   "cell_type": "markdown",
   "metadata": {
    "application/vnd.databricks.v1+cell": {
     "cellMetadata": {
      "byteLimit": 2048000,
      "rowLimit": 10000
     },
     "inputWidgets": {},
     "nuid": "b84ed4a8-937c-4518-8212-d1a61ac3872b",
     "showTitle": false,
     "title": ""
    },
    "colab_type": "text",
    "id": "yv5kCt3xXvAP"
   },
   "source": [
    "# Step 1 - Data Wrangling\n",
    "\n",
    "In this section, we will try and clean and parse our log dataset to really extract structured attributes with meaningful information from each log message.\n",
    "\n",
    "### Data understanding\n",
    "If you're familiar with web server logs, you'll recognize that the above displayed data is in [Common Log Format](https://www.w3.org/Daemon/User/Config/Logging.html#common-logfile-format). \n",
    "\n",
    "The fields are:\n",
    "__`remotehost rfc931 authuser [date] \"request\" status bytes`__\n",
    "\n",
    "\n",
    "| field         | meaning                                                                |\n",
    "| ------------- | ---------------------------------------------------------------------- |\n",
    "| _remotehost_  | Remote hostname (or IP number if DNS hostname is not available or if [DNSLookup](https://www.w3.org/Daemon/User/Config/General.html#DNSLookup) is off).       |\n",
    "| _rfc931_      | The remote logname of the user if at all it is present. |\n",
    "| _authuser_    | The username of the remote user after authentication by the HTTP server.  |\n",
    "| _[date]_      | Date and time of the request.                                      |\n",
    "| _\"request\"_   | The request, exactly as it came from the browser or client.            |\n",
    "| _status_      | The [HTTP status code](https://en.wikipedia.org/wiki/List_of_HTTP_status_codes) the server sent back to the client.               |\n",
    "| _bytes_       | The number of bytes (`Content-Length`) transferred to the client.      |\n",
    "\n",
    "We will need to use some specific techniques to parse, match and extract these attributes from the log data"
   ]
  },
  {
   "cell_type": "markdown",
   "metadata": {
    "application/vnd.databricks.v1+cell": {
     "cellMetadata": {
      "byteLimit": 2048000,
      "rowLimit": 10000
     },
     "inputWidgets": {},
     "nuid": "fa410710-ee30-4b79-9284-5301a24ce7e2",
     "showTitle": false,
     "title": ""
    },
    "colab_type": "text",
    "id": "9aCEcwBLXvAQ"
   },
   "source": [
    "## Data Parsing and Extraction with Regular Expressions\n",
    "\n",
    "Next, we have to parse it into individual columns. We'll use the special built-in [regexp\\_extract()](http://spark.apache.org/docs/latest/api/python/pyspark.sql.html#pyspark.sql.functions.regexp_extract)\n",
    "function to do the parsing. This function matches a column against a regular expression with one or more [capture groups](http://regexone.com/lesson/capturing_groups) and allows you to extract one of the matched groups. We'll use one regular expression for each field we wish to extract.\n",
    "\n",
    "You must have heard or used a fair bit of regular expressions by now. If you find regular expressions confusing (and they certainly _can_ be), and you want to learn more about them, we recommend checking out the\n",
    "[RegexOne web site](http://regexone.com/). You might also find [_Regular Expressions Cookbook_](http://shop.oreilly.com/product/0636920023630.do), by Goyvaerts and Levithan, to be useful as a reference."
   ]
  },
  {
   "cell_type": "markdown",
   "metadata": {
    "application/vnd.databricks.v1+cell": {
     "cellMetadata": {
      "byteLimit": 2048000,
      "rowLimit": 10000
     },
     "inputWidgets": {},
     "nuid": "38d2f3cf-b349-4bad-8130-ed214a6bf0f2",
     "showTitle": false,
     "title": ""
    },
    "colab_type": "text",
    "id": "a3TFNjb1XvAS"
   },
   "source": [
    "#### Let's take a look at our dataset dimensions"
   ]
  },
  {
   "cell_type": "code",
   "execution_count": null,
   "metadata": {
    "application/vnd.databricks.v1+cell": {
     "cellMetadata": {
      "byteLimit": 2048000,
      "rowLimit": 10000
     },
     "inputWidgets": {},
     "nuid": "df5538ff-2a11-43cb-b7fd-56db2f71314c",
     "showTitle": false,
     "title": ""
    },
    "colab": {},
    "colab_type": "code",
    "id": "ncbKGPMJXvAT",
    "outputId": "2d0a17f7-5bd7-444a-9a65-f547bf601f09"
   },
   "outputs": [
    {
     "name": "stdout",
     "output_type": "stream",
     "text": [
      "(3461613, 1)\n"
     ]
    }
   ],
   "source": [
    "print((base_df.count(), len(base_df.columns)))"
   ]
  },
  {
   "cell_type": "markdown",
   "metadata": {
    "application/vnd.databricks.v1+cell": {
     "cellMetadata": {
      "byteLimit": 2048000,
      "rowLimit": 10000
     },
     "inputWidgets": {},
     "nuid": "5d7be756-85d6-4b2d-b814-3a05960315a5",
     "showTitle": false,
     "title": ""
    },
    "colab_type": "text",
    "id": "dtZOfHsVXvAZ"
   },
   "source": [
    "Let's extract and take a look at some sample log messages"
   ]
  },
  {
   "cell_type": "code",
   "execution_count": null,
   "metadata": {
    "application/vnd.databricks.v1+cell": {
     "cellMetadata": {
      "byteLimit": 2048000,
      "rowLimit": 10000
     },
     "inputWidgets": {},
     "nuid": "5374b28b-d218-4d5d-8597-f45823fdce41",
     "showTitle": false,
     "title": ""
    },
    "colab": {},
    "colab_type": "code",
    "id": "-3sfUy4NXvAa",
    "outputId": "056e2311-d4be-4c1b-e507-a4c6f1868ace"
   },
   "outputs": [
    {
     "name": "stdout",
     "output_type": "stream",
     "text": [
      "Out[89]: ['in24.inetnebr.com - - [01/Aug/1995:00:00:01 -0400] \"GET /shuttle/missions/sts-68/news/sts-68-mcc-05.txt HTTP/1.0\" 200 1839',\n",
      " 'uplherc.upl.com - - [01/Aug/1995:00:00:07 -0400] \"GET / HTTP/1.0\" 304 0',\n",
      " 'uplherc.upl.com - - [01/Aug/1995:00:00:08 -0400] \"GET /images/ksclogo-medium.gif HTTP/1.0\" 304 0',\n",
      " 'uplherc.upl.com - - [01/Aug/1995:00:00:08 -0400] \"GET /images/MOSAIC-logosmall.gif HTTP/1.0\" 304 0',\n",
      " 'uplherc.upl.com - - [01/Aug/1995:00:00:08 -0400] \"GET /images/USA-logosmall.gif HTTP/1.0\" 304 0',\n",
      " 'ix-esc-ca2-07.ix.netcom.com - - [01/Aug/1995:00:00:09 -0400] \"GET /images/launch-logo.gif HTTP/1.0\" 200 1713',\n",
      " 'uplherc.upl.com - - [01/Aug/1995:00:00:10 -0400] \"GET /images/WORLD-logosmall.gif HTTP/1.0\" 304 0',\n",
      " 'slppp6.intermind.net - - [01/Aug/1995:00:00:10 -0400] \"GET /history/skylab/skylab.html HTTP/1.0\" 200 1687',\n",
      " 'piweba4y.prodigy.com - - [01/Aug/1995:00:00:10 -0400] \"GET /images/launchmedium.gif HTTP/1.0\" 200 11853',\n",
      " 'slppp6.intermind.net - - [01/Aug/1995:00:00:11 -0400] \"GET /history/skylab/skylab-small.gif HTTP/1.0\" 200 9202',\n",
      " 'slppp6.intermind.net - - [01/Aug/1995:00:00:12 -0400] \"GET /images/ksclogosmall.gif HTTP/1.0\" 200 3635',\n",
      " 'ix-esc-ca2-07.ix.netcom.com - - [01/Aug/1995:00:00:12 -0400] \"GET /history/apollo/images/apollo-logo1.gif HTTP/1.0\" 200 1173',\n",
      " 'slppp6.intermind.net - - [01/Aug/1995:00:00:13 -0400] \"GET /history/apollo/images/apollo-logo.gif HTTP/1.0\" 200 3047',\n",
      " 'uplherc.upl.com - - [01/Aug/1995:00:00:14 -0400] \"GET /images/NASA-logosmall.gif HTTP/1.0\" 304 0',\n",
      " '133.43.96.45 - - [01/Aug/1995:00:00:16 -0400] \"GET /shuttle/missions/sts-69/mission-sts-69.html HTTP/1.0\" 200 10566']"
     ]
    }
   ],
   "source": [
    "sample_logs = [item['value'] for item in base_df.take(15)]\n",
    "sample_logs"
   ]
  },
  {
   "cell_type": "markdown",
   "metadata": {
    "application/vnd.databricks.v1+cell": {
     "cellMetadata": {
      "byteLimit": 2048000,
      "rowLimit": 10000
     },
     "inputWidgets": {},
     "nuid": "5815d49a-33b6-4048-a97b-6a63bc8665aa",
     "showTitle": false,
     "title": ""
    },
    "colab_type": "text",
    "id": "0aPYBjkwXvAf"
   },
   "source": [
    "### Extracting host names\n",
    "\n",
    "Let's try and write some regular expressions to extract the host name from the logs"
   ]
  },
  {
   "cell_type": "code",
   "execution_count": null,
   "metadata": {
    "application/vnd.databricks.v1+cell": {
     "cellMetadata": {
      "byteLimit": 2048000,
      "rowLimit": 10000
     },
     "inputWidgets": {},
     "nuid": "e9616e20-9516-4fec-a5d6-bdf0f0ee01b4",
     "showTitle": false,
     "title": ""
    },
    "colab": {},
    "colab_type": "code",
    "id": "WarNo8bGXvAh",
    "outputId": "d8a548f2-335e-4ab4-8a9f-28f55060e540"
   },
   "outputs": [
    {
     "name": "stdout",
     "output_type": "stream",
     "text": [
      "Out[90]: ['in24.inetnebr.com',\n",
      " 'uplherc.upl.com',\n",
      " 'uplherc.upl.com',\n",
      " 'uplherc.upl.com',\n",
      " 'uplherc.upl.com',\n",
      " 'ix-esc-ca2-07.ix.netcom.com',\n",
      " 'uplherc.upl.com',\n",
      " 'slppp6.intermind.net',\n",
      " 'piweba4y.prodigy.com',\n",
      " 'slppp6.intermind.net',\n",
      " 'slppp6.intermind.net',\n",
      " 'ix-esc-ca2-07.ix.netcom.com',\n",
      " 'slppp6.intermind.net',\n",
      " 'uplherc.upl.com',\n",
      " '133.43.96.45']"
     ]
    }
   ],
   "source": [
    "host_pattern = r'(^\\S+\\.[\\S+\\.]+\\S+)\\s'\n",
    "hosts = [re.search(host_pattern, item).group(1)\n",
    "           if re.search(host_pattern, item)\n",
    "           else 'no match'\n",
    "           for item in sample_logs]\n",
    "hosts"
   ]
  },
  {
   "cell_type": "markdown",
   "metadata": {
    "application/vnd.databricks.v1+cell": {
     "cellMetadata": {
      "byteLimit": 2048000,
      "rowLimit": 10000
     },
     "inputWidgets": {},
     "nuid": "97275f7e-20de-4f4a-896e-68a77aea9cd9",
     "showTitle": false,
     "title": ""
    },
    "colab_type": "text",
    "id": "TcZrGpgwXvAk"
   },
   "source": [
    "### Extracting timestamps \n",
    "\n",
    "Let's now try and use regular expressions to extract the timestamp fields from the logs"
   ]
  },
  {
   "cell_type": "code",
   "execution_count": null,
   "metadata": {
    "application/vnd.databricks.v1+cell": {
     "cellMetadata": {
      "byteLimit": 2048000,
      "rowLimit": 10000
     },
     "inputWidgets": {},
     "nuid": "97d80138-6410-462e-9611-8a1a0894185f",
     "showTitle": false,
     "title": ""
    },
    "colab": {},
    "colab_type": "code",
    "id": "GOot8niKXvAl",
    "outputId": "6ad3338e-8ff0-48f1-c4d0-ad52742232b9"
   },
   "outputs": [
    {
     "name": "stdout",
     "output_type": "stream",
     "text": [
      "Out[91]: ['01/Aug/1995:00:00:01 -0400',\n",
      " '01/Aug/1995:00:00:07 -0400',\n",
      " '01/Aug/1995:00:00:08 -0400',\n",
      " '01/Aug/1995:00:00:08 -0400',\n",
      " '01/Aug/1995:00:00:08 -0400',\n",
      " '01/Aug/1995:00:00:09 -0400',\n",
      " '01/Aug/1995:00:00:10 -0400',\n",
      " '01/Aug/1995:00:00:10 -0400',\n",
      " '01/Aug/1995:00:00:10 -0400',\n",
      " '01/Aug/1995:00:00:11 -0400',\n",
      " '01/Aug/1995:00:00:12 -0400',\n",
      " '01/Aug/1995:00:00:12 -0400',\n",
      " '01/Aug/1995:00:00:13 -0400',\n",
      " '01/Aug/1995:00:00:14 -0400',\n",
      " '01/Aug/1995:00:00:16 -0400']"
     ]
    }
   ],
   "source": [
    "ts_pattern = r'\\[(\\d{2}/\\w{3}/\\d{4}:\\d{2}:\\d{2}:\\d{2} -\\d{4})]'\n",
    "timestamps = [re.search(ts_pattern, item).group(1) for item in sample_logs]\n",
    "timestamps"
   ]
  },
  {
   "cell_type": "markdown",
   "metadata": {
    "application/vnd.databricks.v1+cell": {
     "cellMetadata": {
      "byteLimit": 2048000,
      "rowLimit": 10000
     },
     "inputWidgets": {},
     "nuid": "d723d09b-63e1-4307-8029-cd4dbf0b0692",
     "showTitle": false,
     "title": ""
    },
    "colab_type": "text",
    "id": "CKJ5F8tCXvAo"
   },
   "source": [
    "### Extracting HTTP Request Method, URIs and Protocol \n",
    "\n",
    "Let's now try and use regular expressions to extract the HTTP request methods, URIs and Protocol patterns fields from the logs"
   ]
  },
  {
   "cell_type": "code",
   "execution_count": null,
   "metadata": {
    "application/vnd.databricks.v1+cell": {
     "cellMetadata": {
      "byteLimit": 2048000,
      "rowLimit": 10000
     },
     "inputWidgets": {},
     "nuid": "ebf823f6-3d10-47ba-881c-dc4f25e0a9fc",
     "showTitle": false,
     "title": ""
    },
    "colab": {},
    "colab_type": "code",
    "id": "TZvnPVXeXvAp",
    "outputId": "f3cdd71d-0239-43a4-fd8f-245193f571c3"
   },
   "outputs": [
    {
     "name": "stdout",
     "output_type": "stream",
     "text": [
      "Out[92]: [('GET', '/shuttle/missions/sts-68/news/sts-68-mcc-05.txt', 'HTTP/1.0'),\n",
      " ('GET', '/', 'HTTP/1.0'),\n",
      " ('GET', '/images/ksclogo-medium.gif', 'HTTP/1.0'),\n",
      " ('GET', '/images/MOSAIC-logosmall.gif', 'HTTP/1.0'),\n",
      " ('GET', '/images/USA-logosmall.gif', 'HTTP/1.0'),\n",
      " ('GET', '/images/launch-logo.gif', 'HTTP/1.0'),\n",
      " ('GET', '/images/WORLD-logosmall.gif', 'HTTP/1.0'),\n",
      " ('GET', '/history/skylab/skylab.html', 'HTTP/1.0'),\n",
      " ('GET', '/images/launchmedium.gif', 'HTTP/1.0'),\n",
      " ('GET', '/history/skylab/skylab-small.gif', 'HTTP/1.0'),\n",
      " ('GET', '/images/ksclogosmall.gif', 'HTTP/1.0'),\n",
      " ('GET', '/history/apollo/images/apollo-logo1.gif', 'HTTP/1.0'),\n",
      " ('GET', '/history/apollo/images/apollo-logo.gif', 'HTTP/1.0'),\n",
      " ('GET', '/images/NASA-logosmall.gif', 'HTTP/1.0'),\n",
      " ('GET', '/shuttle/missions/sts-69/mission-sts-69.html', 'HTTP/1.0')]"
     ]
    }
   ],
   "source": [
    "method_uri_protocol_pattern = r'\\\"(\\S+)\\s(\\S+)\\s*(\\S*)\\\"'\n",
    "method_uri_protocol = [re.search(method_uri_protocol_pattern, item).groups()\n",
    "               if re.search(method_uri_protocol_pattern, item)\n",
    "               else 'no match'\n",
    "              for item in sample_logs]\n",
    "method_uri_protocol"
   ]
  },
  {
   "cell_type": "markdown",
   "metadata": {
    "application/vnd.databricks.v1+cell": {
     "cellMetadata": {
      "byteLimit": 2048000,
      "rowLimit": 10000
     },
     "inputWidgets": {},
     "nuid": "e3f53268-a6d4-48fd-b4bd-454bd4c0b617",
     "showTitle": false,
     "title": ""
    },
    "colab_type": "text",
    "id": "oaBizluJXvAu"
   },
   "source": [
    "### Building an intermediate parsed dataframe\n",
    "\n",
    "Let's try and use our regular expressions we have implemented so far into parsing and extracting the relevant entities in separate columns in a new dataframe"
   ]
  },
  {
   "cell_type": "code",
   "execution_count": null,
   "metadata": {
    "application/vnd.databricks.v1+cell": {
     "cellMetadata": {
      "byteLimit": 2048000,
      "rowLimit": 10000
     },
     "inputWidgets": {},
     "nuid": "061baad9-efa0-4bbe-ae55-246c56052f6f",
     "showTitle": false,
     "title": ""
    },
    "colab": {},
    "colab_type": "code",
    "id": "MLI8LUVPXvAv",
    "outputId": "5c8becac-e3bb-4a61-cc8e-bba69c4169d6"
   },
   "outputs": [
    {
     "name": "stdout",
     "output_type": "stream",
     "text": [
      "+---------------------------+--------------------------+------+-----------------------------------------------+--------+\n",
      "|host                       |timestamp                 |method|endpoint                                       |protocol|\n",
      "+---------------------------+--------------------------+------+-----------------------------------------------+--------+\n",
      "|in24.inetnebr.com          |01/Aug/1995:00:00:01 -0400|GET   |/shuttle/missions/sts-68/news/sts-68-mcc-05.txt|HTTP/1.0|\n",
      "|uplherc.upl.com            |01/Aug/1995:00:00:07 -0400|GET   |/                                              |HTTP/1.0|\n",
      "|uplherc.upl.com            |01/Aug/1995:00:00:08 -0400|GET   |/images/ksclogo-medium.gif                     |HTTP/1.0|\n",
      "|uplherc.upl.com            |01/Aug/1995:00:00:08 -0400|GET   |/images/MOSAIC-logosmall.gif                   |HTTP/1.0|\n",
      "|uplherc.upl.com            |01/Aug/1995:00:00:08 -0400|GET   |/images/USA-logosmall.gif                      |HTTP/1.0|\n",
      "|ix-esc-ca2-07.ix.netcom.com|01/Aug/1995:00:00:09 -0400|GET   |/images/launch-logo.gif                        |HTTP/1.0|\n",
      "|uplherc.upl.com            |01/Aug/1995:00:00:10 -0400|GET   |/images/WORLD-logosmall.gif                    |HTTP/1.0|\n",
      "|slppp6.intermind.net       |01/Aug/1995:00:00:10 -0400|GET   |/history/skylab/skylab.html                    |HTTP/1.0|\n",
      "|piweba4y.prodigy.com       |01/Aug/1995:00:00:10 -0400|GET   |/images/launchmedium.gif                       |HTTP/1.0|\n",
      "|slppp6.intermind.net       |01/Aug/1995:00:00:11 -0400|GET   |/history/skylab/skylab-small.gif               |HTTP/1.0|\n",
      "+---------------------------+--------------------------+------+-----------------------------------------------+--------+\n",
      "only showing top 10 rows\n",
      "\n",
      "(3461613, 5)\n"
     ]
    }
   ],
   "source": [
    "from pyspark.sql.functions import regexp_extract\n",
    "\n",
    "logs_df = base_df.select(regexp_extract('value', host_pattern, 1).alias('host'),\n",
    "                         regexp_extract('value', ts_pattern, 1).alias('timestamp'),\n",
    "                         regexp_extract('value', method_uri_protocol_pattern, 1).alias('method'),\n",
    "                         regexp_extract('value', method_uri_protocol_pattern, 2).alias('endpoint'),\n",
    "                         regexp_extract('value', method_uri_protocol_pattern, 3).alias('protocol'))\n",
    "logs_df.show(10, truncate=False)\n",
    "print((logs_df.count(), len(logs_df.columns)))"
   ]
  },
  {
   "cell_type": "markdown",
   "metadata": {
    "application/vnd.databricks.v1+cell": {
     "cellMetadata": {
      "byteLimit": 2048000,
      "rowLimit": 10000
     },
     "inputWidgets": {},
     "nuid": "8c096bb2-b738-4dd7-9a0f-28cc84d7a810",
     "showTitle": false,
     "title": ""
    },
    "colab_type": "text",
    "id": "-c-LK4TNXvAy"
   },
   "source": [
    "### Extracting HTTP Status Codes\n",
    "\n",
    "Let's now try and use regular expressions to extract the HTTP status codes from the logs"
   ]
  },
  {
   "cell_type": "code",
   "execution_count": null,
   "metadata": {
    "application/vnd.databricks.v1+cell": {
     "cellMetadata": {
      "byteLimit": 2048000,
      "rowLimit": 10000
     },
     "inputWidgets": {},
     "nuid": "27a56e06-8249-40c4-ba1b-161beff991cb",
     "showTitle": false,
     "title": ""
    },
    "colab": {},
    "colab_type": "code",
    "id": "kvWWXeTcXvA1",
    "outputId": "5ffeabc8-ecff-4365-af5f-0b905f913115"
   },
   "outputs": [
    {
     "name": "stdout",
     "output_type": "stream",
     "text": [
      "['200', '304', '304', '304', '304', '200', '304', '200', '200', '200', '200', '200', '200', '304', '200']\n"
     ]
    }
   ],
   "source": [
    "status_pattern = r'\\s(\\d{3})\\s'\n",
    "status = [re.search(status_pattern, item).group(1) for item in sample_logs]\n",
    "print(status)"
   ]
  },
  {
   "cell_type": "markdown",
   "metadata": {
    "application/vnd.databricks.v1+cell": {
     "cellMetadata": {
      "byteLimit": 2048000,
      "rowLimit": 10000
     },
     "inputWidgets": {},
     "nuid": "0f74495d-8c31-44de-b7bd-846e2ebc5ab3",
     "showTitle": false,
     "title": ""
    },
    "colab_type": "text",
    "id": "jFemwBnSXvA4"
   },
   "source": [
    "### Extracting HTTP Response Content Size\n",
    "\n",
    "Let's now try and use regular expressions to extract the HTTP response content size from the logs"
   ]
  },
  {
   "cell_type": "code",
   "execution_count": null,
   "metadata": {
    "application/vnd.databricks.v1+cell": {
     "cellMetadata": {
      "byteLimit": 2048000,
      "rowLimit": 10000
     },
     "inputWidgets": {},
     "nuid": "5dab6767-7d20-41aa-820c-0aabcf2bd0f6",
     "showTitle": false,
     "title": ""
    },
    "colab": {},
    "colab_type": "code",
    "id": "l0kmQOqjXvA5",
    "outputId": "8b6c6d90-6897-4885-e527-0b815f4a977e"
   },
   "outputs": [
    {
     "name": "stdout",
     "output_type": "stream",
     "text": [
      "['1839', '0', '0', '0', '0', '1713', '0', '1687', '11853', '9202', '3635', '1173', '3047', '0', '10566']\n"
     ]
    }
   ],
   "source": [
    "content_size_pattern = r'\\s(\\d+)$'\n",
    "content_size = [re.search(content_size_pattern, item).group(1) for item in sample_logs]\n",
    "print(content_size)"
   ]
  },
  {
   "cell_type": "markdown",
   "metadata": {
    "application/vnd.databricks.v1+cell": {
     "cellMetadata": {
      "byteLimit": 2048000,
      "rowLimit": 10000
     },
     "inputWidgets": {},
     "nuid": "16b85207-50b9-4fd6-9011-b3173235091e",
     "showTitle": false,
     "title": ""
    },
    "colab_type": "text",
    "id": "DHPbsgMsXvA8"
   },
   "source": [
    "## Q1: Your Turn: Putting it all together \n",
    "\n",
    "Let's now try and leverage all the regular expression patterns we previously built and use the `regexp_extract(...)` method to build our dataframe with all the log attributes neatly extracted in their own separate columns.\n",
    "\n",
    "- You can reuse the code we used previously to build the intermediate dataframe\n",
    "- Remember to cast the HTTP status code and content size as integers. \n",
    "- You can cast data as integer type using the following: __`regexp_extract('value', ...., ...).cast('integer').alias(...)`__"
   ]
  },
  {
   "cell_type": "code",
   "execution_count": null,
   "metadata": {
    "application/vnd.databricks.v1+cell": {
     "cellMetadata": {
      "byteLimit": 2048000,
      "rowLimit": 10000
     },
     "inputWidgets": {},
     "nuid": "1dfef41b-20c0-4f53-8537-16cf05957892",
     "showTitle": false,
     "title": ""
    },
    "colab": {},
    "colab_type": "code",
    "id": "bM4iBWjRXvA-",
    "outputId": "b826a364-3709-4c6f-eb67-541e08c535ac"
   },
   "outputs": [
    {
     "name": "stdout",
     "output_type": "stream",
     "text": [
      "+--------------------+--------------------+------+--------------------+--------+------+------------+\n",
      "|                host|           timestamp|method|            endpoint|protocol|status|content_size|\n",
      "+--------------------+--------------------+------+--------------------+--------+------+------------+\n",
      "|   in24.inetnebr.com|01/Aug/1995:00:00...|   GET|/shuttle/missions...|HTTP/1.0|   200|        1839|\n",
      "|     uplherc.upl.com|01/Aug/1995:00:00...|   GET|                   /|HTTP/1.0|   304|           0|\n",
      "|     uplherc.upl.com|01/Aug/1995:00:00...|   GET|/images/ksclogo-m...|HTTP/1.0|   304|           0|\n",
      "|     uplherc.upl.com|01/Aug/1995:00:00...|   GET|/images/MOSAIC-lo...|HTTP/1.0|   304|           0|\n",
      "|     uplherc.upl.com|01/Aug/1995:00:00...|   GET|/images/USA-logos...|HTTP/1.0|   304|           0|\n",
      "|ix-esc-ca2-07.ix....|01/Aug/1995:00:00...|   GET|/images/launch-lo...|HTTP/1.0|   200|        1713|\n",
      "|     uplherc.upl.com|01/Aug/1995:00:00...|   GET|/images/WORLD-log...|HTTP/1.0|   304|           0|\n",
      "|slppp6.intermind.net|01/Aug/1995:00:00...|   GET|/history/skylab/s...|HTTP/1.0|   200|        1687|\n",
      "|piweba4y.prodigy.com|01/Aug/1995:00:00...|   GET|/images/launchmed...|HTTP/1.0|   200|       11853|\n",
      "|slppp6.intermind.net|01/Aug/1995:00:00...|   GET|/history/skylab/s...|HTTP/1.0|   200|        9202|\n",
      "+--------------------+--------------------+------+--------------------+--------+------+------------+\n",
      "only showing top 10 rows\n",
      "\n",
      "(3461613, 7)\n"
     ]
    }
   ],
   "source": [
    "logs_df = base_df.select(regexp_extract('value', host_pattern, 1).alias('host'),\n",
    "                         regexp_extract('value', ts_pattern, 1).alias('timestamp'),\n",
    "                         regexp_extract('value', method_uri_protocol_pattern, 1).alias('method'),\n",
    "                         regexp_extract('value', method_uri_protocol_pattern, 2).alias('endpoint'),\n",
    "                         regexp_extract('value', method_uri_protocol_pattern, 3).alias('protocol'),\n",
    "                         regexp_extract('value', status_pattern, 1).cast('integer').alias('status'),\n",
    "                         regexp_extract('value', content_size_pattern, 1).cast('integer').alias('content_size'))\n",
    "logs_df.show(10, truncate=True)\n",
    "print((logs_df.count(), len(logs_df.columns)))"
   ]
  },
  {
   "cell_type": "markdown",
   "metadata": {
    "application/vnd.databricks.v1+cell": {
     "cellMetadata": {
      "byteLimit": 2048000,
      "rowLimit": 10000
     },
     "inputWidgets": {},
     "nuid": "706adfb9-2639-4590-80ae-5ebcf45b31d7",
     "showTitle": false,
     "title": ""
    },
    "colab_type": "text",
    "id": "EgLGxYRYXvBB"
   },
   "source": [
    "## Finding Missing Values\n",
    "\n",
    "Missing and null values are the bane of data analysis and machine learning. Let's see how well our data parsing and extraction logic worked. First, let's verify that there are no null rows in the original dataframe."
   ]
  },
  {
   "cell_type": "code",
   "execution_count": null,
   "metadata": {
    "application/vnd.databricks.v1+cell": {
     "cellMetadata": {
      "byteLimit": 2048000,
      "rowLimit": 10000
     },
     "inputWidgets": {},
     "nuid": "f5c97dce-1e3a-450e-a46a-f8f93bb25787",
     "showTitle": false,
     "title": ""
    },
    "colab": {},
    "colab_type": "code",
    "id": "O4ppVUoJXvBC",
    "outputId": "18c683c1-5f0d-4f62-9545-e9bd27088c80"
   },
   "outputs": [
    {
     "name": "stdout",
     "output_type": "stream",
     "text": [
      "Out[97]: 0"
     ]
    }
   ],
   "source": [
    "base_df.filter(base_df['value'].isNull()).count()"
   ]
  },
  {
   "cell_type": "markdown",
   "metadata": {
    "application/vnd.databricks.v1+cell": {
     "cellMetadata": {
      "byteLimit": 2048000,
      "rowLimit": 10000
     },
     "inputWidgets": {},
     "nuid": "3bc989ca-70f4-427f-bf7a-936797962dd4",
     "showTitle": false,
     "title": ""
    },
    "colab_type": "text",
    "id": "7V0g6vHcXvBG"
   },
   "source": [
    "If our data parsing and extraction worked properly, we should not have any rows with potential null values. Let's try and put that to test!"
   ]
  },
  {
   "cell_type": "code",
   "execution_count": null,
   "metadata": {
    "application/vnd.databricks.v1+cell": {
     "cellMetadata": {
      "byteLimit": 2048000,
      "rowLimit": 10000
     },
     "inputWidgets": {},
     "nuid": "27bb9c7b-1028-41f8-8fd9-5190b435666c",
     "showTitle": false,
     "title": ""
    },
    "colab": {},
    "colab_type": "code",
    "id": "4NFuk6QTXvBH",
    "outputId": "a8238a74-51c8-48ac-fe83-b67f42d0a78c"
   },
   "outputs": [
    {
     "name": "stdout",
     "output_type": "stream",
     "text": [
      "Out[98]: 33905"
     ]
    }
   ],
   "source": [
    "bad_rows_df = logs_df.filter(logs_df['host'].isNull()| \n",
    "                             logs_df['timestamp'].isNull() | \n",
    "                             logs_df['method'].isNull() |\n",
    "                             logs_df['endpoint'].isNull() |\n",
    "                             logs_df['status'].isNull() |\n",
    "                             logs_df['content_size'].isNull()|\n",
    "                             logs_df['protocol'].isNull())\n",
    "bad_rows_df.count()"
   ]
  },
  {
   "cell_type": "markdown",
   "metadata": {
    "application/vnd.databricks.v1+cell": {
     "cellMetadata": {
      "byteLimit": 2048000,
      "rowLimit": 10000
     },
     "inputWidgets": {},
     "nuid": "7cb03b5b-3b17-4164-a92c-28bb225579e3",
     "showTitle": false,
     "title": ""
    },
    "colab_type": "text",
    "id": "CIqr5XvhXvBM"
   },
   "source": [
    "Ouch! Looks like we have over 30K missing values in our data! Can we handle this?"
   ]
  },
  {
   "cell_type": "markdown",
   "metadata": {
    "application/vnd.databricks.v1+cell": {
     "cellMetadata": {
      "byteLimit": 2048000,
      "rowLimit": 10000
     },
     "inputWidgets": {},
     "nuid": "9fe150d8-78eb-494e-946f-6c71eff6728b",
     "showTitle": false,
     "title": ""
    },
    "colab_type": "text",
    "id": "g8iWYrBoXvBN"
   },
   "source": [
    "Do remember, this is not a regular pandas dataframe which you can directly query and get which columns have null. Our so-called _big dataset_ is residing on disk which can potentially be present in multiple nodes in a spark cluster. So how do we find out which columns have potential nulls? \n",
    "\n",
    "### Finding Null Counts\n",
    "\n",
    "We can typically use the following technique to find out which columns have null values. \n",
    "\n",
    "(__Note:__ This approach is adapted from an [excellent answer](http://stackoverflow.com/a/33901312) on StackOverflow.)"
   ]
  },
  {
   "cell_type": "code",
   "execution_count": null,
   "metadata": {
    "application/vnd.databricks.v1+cell": {
     "cellMetadata": {
      "byteLimit": 2048000,
      "rowLimit": 10000
     },
     "inputWidgets": {},
     "nuid": "ebde1a38-2393-4bfe-bfaf-6685407038a5",
     "showTitle": false,
     "title": ""
    },
    "colab": {},
    "colab_type": "code",
    "id": "h0TWdnaPXvBP",
    "outputId": "8a7abfda-2629-4f36-cb9c-3e00a13efa83"
   },
   "outputs": [
    {
     "name": "stdout",
     "output_type": "stream",
     "text": [
      "Out[99]: ['host',\n",
      " 'timestamp',\n",
      " 'method',\n",
      " 'endpoint',\n",
      " 'protocol',\n",
      " 'status',\n",
      " 'content_size']"
     ]
    }
   ],
   "source": [
    "logs_df.columns"
   ]
  },
  {
   "cell_type": "code",
   "execution_count": null,
   "metadata": {
    "application/vnd.databricks.v1+cell": {
     "cellMetadata": {
      "byteLimit": 2048000,
      "rowLimit": 10000
     },
     "inputWidgets": {},
     "nuid": "0e42e37a-ea4e-4461-b642-eb8999e64003",
     "showTitle": false,
     "title": ""
    },
    "colab": {},
    "colab_type": "code",
    "id": "LtNLdagZXvBT",
    "outputId": "e9fba1ca-d183-4728-9f7c-135ebcd78ec9"
   },
   "outputs": [
    {
     "name": "stdout",
     "output_type": "stream",
     "text": [
      "+----+---------+------+--------+--------+------+------------+\n",
      "|host|timestamp|method|endpoint|protocol|status|content_size|\n",
      "+----+---------+------+--------+--------+------+------------+\n",
      "|   0|        0|     0|       0|       0|     1|       33905|\n",
      "+----+---------+------+--------+--------+------+------------+\n",
      "\n"
     ]
    }
   ],
   "source": [
    "from pyspark.sql.functions import col\n",
    "from pyspark.sql.functions import sum as spark_sum\n",
    "\n",
    "def count_null(col_name):\n",
    "    return spark_sum(col(col_name).isNull().cast('integer')).alias(col_name)\n",
    "\n",
    "# Build up a list of column expressions, one per column.\n",
    "exprs = [count_null(col_name) for col_name in logs_df.columns]\n",
    "\n",
    "# Run the aggregation. The *exprs converts the list of expressions into\n",
    "# variable function arguments.\n",
    "logs_df.agg(*exprs).show()"
   ]
  },
  {
   "cell_type": "markdown",
   "metadata": {
    "application/vnd.databricks.v1+cell": {
     "cellMetadata": {
      "byteLimit": 2048000,
      "rowLimit": 10000
     },
     "inputWidgets": {},
     "nuid": "5241f84f-e989-4440-9970-4d3412f95c48",
     "showTitle": false,
     "title": ""
    },
    "colab_type": "text",
    "id": "g5z_B22MXvBX"
   },
   "source": [
    "Well, looks like we have one missing value in the `status` column and everything else is in the `content_size` column. \n",
    "Let's see if we can figure out what's wrong!"
   ]
  },
  {
   "cell_type": "markdown",
   "metadata": {
    "application/vnd.databricks.v1+cell": {
     "cellMetadata": {
      "byteLimit": 2048000,
      "rowLimit": 10000
     },
     "inputWidgets": {},
     "nuid": "218485df-829f-4edc-980f-b538f41af980",
     "showTitle": false,
     "title": ""
    },
    "colab_type": "text",
    "id": "jGoLzGeEXvBZ"
   },
   "source": [
    "### Handling nulls in HTTP status\n",
    "\n",
    "If you had solved it correctly, our original parsing regular expression for the `status` column was:\n",
    "\n",
    "```\n",
    "regexp_extract('value', r'\\s(\\d{3})\\s', 1).cast('integer').alias('status')\n",
    "``` \n",
    "\n",
    "Could it be that there are more digits making our regular expression wrong? or is the data point itself bad? Let's try and find out!\n",
    "\n",
    "**Note**: In the expression below, `~` means \"not\"."
   ]
  },
  {
   "cell_type": "code",
   "execution_count": null,
   "metadata": {
    "application/vnd.databricks.v1+cell": {
     "cellMetadata": {
      "byteLimit": 2048000,
      "rowLimit": 10000
     },
     "inputWidgets": {},
     "nuid": "fe1feee8-bd23-4316-8c61-9b09d233b130",
     "showTitle": false,
     "title": ""
    },
    "colab": {},
    "colab_type": "code",
    "id": "tscbB01GXvBb",
    "outputId": "97996e0a-5e21-441f-b742-3e898e691c43"
   },
   "outputs": [
    {
     "name": "stdout",
     "output_type": "stream",
     "text": [
      "Out[101]: 1"
     ]
    }
   ],
   "source": [
    "null_status_df = base_df.filter(~base_df['value'].rlike(r'\\s(\\d{3})\\s'))\n",
    "null_status_df.count()"
   ]
  },
  {
   "cell_type": "code",
   "execution_count": null,
   "metadata": {
    "application/vnd.databricks.v1+cell": {
     "cellMetadata": {
      "byteLimit": 2048000,
      "rowLimit": 10000
     },
     "inputWidgets": {},
     "nuid": "7a19fe16-675e-475d-b08b-9a413348e1e8",
     "showTitle": false,
     "title": ""
    },
    "colab": {},
    "colab_type": "code",
    "id": "KMRiPoTXXvBe",
    "outputId": "8bf8cf96-643f-42fd-c593-0dcadf950f74"
   },
   "outputs": [
    {
     "name": "stdout",
     "output_type": "stream",
     "text": [
      "+--------+\n",
      "|value   |\n",
      "+--------+\n",
      "|alyssa.p|\n",
      "+--------+\n",
      "\n"
     ]
    }
   ],
   "source": [
    "null_status_df.show(truncate=False)"
   ]
  },
  {
   "cell_type": "code",
   "execution_count": null,
   "metadata": {
    "application/vnd.databricks.v1+cell": {
     "cellMetadata": {
      "byteLimit": 2048000,
      "rowLimit": 10000
     },
     "inputWidgets": {},
     "nuid": "483bff1e-3b4c-4888-a998-9382fa7631f6",
     "showTitle": false,
     "title": ""
    },
    "colab": {},
    "colab_type": "code",
    "id": "-ec9HtGwXvBh",
    "outputId": "9bc09049-3dff-4b65-8fec-5b7edf2cda39"
   },
   "outputs": [
    {
     "name": "stdout",
     "output_type": "stream",
     "text": [
      "+----+---------+------+--------+--------+------+------------+\n",
      "|host|timestamp|method|endpoint|protocol|status|content_size|\n",
      "+----+---------+------+--------+--------+------+------------+\n",
      "|    |         |      |        |        |null  |null        |\n",
      "+----+---------+------+--------+--------+------+------------+\n",
      "\n"
     ]
    }
   ],
   "source": [
    "bad_status_df = null_status_df.select(regexp_extract('value', host_pattern, 1).alias('host'),\n",
    "                                      regexp_extract('value', ts_pattern, 1).alias('timestamp'),\n",
    "                                      regexp_extract('value', method_uri_protocol_pattern, 1).alias('method'),\n",
    "                                      regexp_extract('value', method_uri_protocol_pattern, 2).alias('endpoint'),\n",
    "                                      regexp_extract('value', method_uri_protocol_pattern, 3).alias('protocol'),\n",
    "                                      regexp_extract('value', status_pattern, 1).cast('integer').alias('status'),\n",
    "                                      regexp_extract('value', content_size_pattern, 1).cast('integer').alias('content_size'))\n",
    "bad_status_df.show(truncate=False)"
   ]
  },
  {
   "cell_type": "markdown",
   "metadata": {
    "application/vnd.databricks.v1+cell": {
     "cellMetadata": {
      "byteLimit": 2048000,
      "rowLimit": 10000
     },
     "inputWidgets": {},
     "nuid": "9d4fc920-80ec-41aa-be5c-89c889ce45b5",
     "showTitle": false,
     "title": ""
    },
    "colab_type": "text",
    "id": "wS7tZXIUXvBk"
   },
   "source": [
    "Looks like the record itself is an incomplete record with no useful information, the best option would be to drop this record as follows!"
   ]
  },
  {
   "cell_type": "code",
   "execution_count": null,
   "metadata": {
    "application/vnd.databricks.v1+cell": {
     "cellMetadata": {
      "byteLimit": 2048000,
      "rowLimit": 10000
     },
     "inputWidgets": {},
     "nuid": "e17bd505-f6ce-4a08-824d-1a2553f71b7c",
     "showTitle": false,
     "title": ""
    },
    "colab": {},
    "colab_type": "code",
    "id": "zb6wxLWuXvBl",
    "outputId": "b4f36a5a-9679-4830-91fc-80388aac54e2"
   },
   "outputs": [
    {
     "name": "stdout",
     "output_type": "stream",
     "text": [
      "Out[104]: 3461613"
     ]
    }
   ],
   "source": [
    "logs_df.count()"
   ]
  },
  {
   "cell_type": "code",
   "execution_count": null,
   "metadata": {
    "application/vnd.databricks.v1+cell": {
     "cellMetadata": {
      "byteLimit": 2048000,
      "rowLimit": 10000
     },
     "inputWidgets": {},
     "nuid": "5670df4a-00f8-4674-aa14-891bc5a44fa5",
     "showTitle": false,
     "title": ""
    },
    "colab": {},
    "colab_type": "code",
    "id": "RQogALLJXvBo",
    "outputId": "41034dca-c862-48e7-9a3d-548738bebbff"
   },
   "outputs": [
    {
     "name": "stdout",
     "output_type": "stream",
     "text": [
      "Out[105]: 3461612"
     ]
    }
   ],
   "source": [
    "logs_df = logs_df[logs_df['status'].isNotNull()]\n",
    "logs_df.count()"
   ]
  },
  {
   "cell_type": "code",
   "execution_count": null,
   "metadata": {
    "application/vnd.databricks.v1+cell": {
     "cellMetadata": {
      "byteLimit": 2048000,
      "rowLimit": 10000
     },
     "inputWidgets": {},
     "nuid": "1c98d453-8434-43de-983e-b4e0703ae8c5",
     "showTitle": false,
     "title": ""
    },
    "colab": {},
    "colab_type": "code",
    "id": "_rHsvCeeXvBs",
    "outputId": "a58d88c2-94cc-4c58-bf1f-bf12abc0e822"
   },
   "outputs": [
    {
     "name": "stdout",
     "output_type": "stream",
     "text": [
      "+----+---------+------+--------+--------+------+------------+\n",
      "|host|timestamp|method|endpoint|protocol|status|content_size|\n",
      "+----+---------+------+--------+--------+------+------------+\n",
      "|   0|        0|     0|       0|       0|     0|       33904|\n",
      "+----+---------+------+--------+--------+------+------------+\n",
      "\n"
     ]
    }
   ],
   "source": [
    "exprs = [count_null(col_name) for col_name in logs_df.columns]\n",
    "logs_df.agg(*exprs).show()"
   ]
  },
  {
   "cell_type": "markdown",
   "metadata": {
    "application/vnd.databricks.v1+cell": {
     "cellMetadata": {
      "byteLimit": 2048000,
      "rowLimit": 10000
     },
     "inputWidgets": {},
     "nuid": "e4668520-b3fa-4ce2-9157-2a29ae10e245",
     "showTitle": false,
     "title": ""
    },
    "colab_type": "text",
    "id": "8k4-PjEFXvBv"
   },
   "source": [
    "### Handling nulls in HTTP content size\n",
    "\n",
    "Again based on our previous regular expression and assuming you were able to solve it correctly, our original parsing regular expression for the `content_size` column was:\n",
    "\n",
    "```\n",
    "regexp_extract('value', r'\\s(\\d+)$', 1).cast('integer').alias('content_size')\n",
    "``` \n",
    "\n",
    "Could there be missing data in our original dataset itself? Let's try and find out!"
   ]
  },
  {
   "cell_type": "markdown",
   "metadata": {
    "application/vnd.databricks.v1+cell": {
     "cellMetadata": {
      "byteLimit": 2048000,
      "rowLimit": 10000
     },
     "inputWidgets": {},
     "nuid": "e954403b-b379-4403-8c03-38076231861e",
     "showTitle": false,
     "title": ""
    },
    "colab_type": "text",
    "id": "MMjHfm1aXvBw"
   },
   "source": [
    "### Q2: Your Turn: Find out the records in our base data frame with potential missing content sizes\n",
    "\n",
    "- Use the `r'\\s\\d+$'` regex pattern with the `rlike()` function like we demonstrated in the previous example\n",
    "- Remember to work on `base_df` since we are searching on the raw records NOT the parsed `logs_df`\n",
    "- Find the total count of the records with missing content size in `base_df` using the `count()` function"
   ]
  },
  {
   "cell_type": "code",
   "execution_count": null,
   "metadata": {
    "application/vnd.databricks.v1+cell": {
     "cellMetadata": {
      "byteLimit": 2048000,
      "rowLimit": 10000
     },
     "inputWidgets": {},
     "nuid": "3518bb80-00de-4ed6-97c7-3981b6f0388a",
     "showTitle": false,
     "title": ""
    },
    "colab": {},
    "colab_type": "code",
    "id": "ki7G6daTXvBx",
    "outputId": "8a7230f3-f87b-4681-fcfc-b5d9503a441d"
   },
   "outputs": [
    {
     "name": "stdout",
     "output_type": "stream",
     "text": [
      "Out[107]: 33905"
     ]
    }
   ],
   "source": [
    "null_content_size_df = base_df.filter(~base_df['value'].rlike(r'\\s(\\d+)$'))\n",
    "null_content_size_df.count()"
   ]
  },
  {
   "cell_type": "markdown",
   "metadata": {
    "application/vnd.databricks.v1+cell": {
     "cellMetadata": {
      "byteLimit": 2048000,
      "rowLimit": 10000
     },
     "inputWidgets": {},
     "nuid": "dc0e0b28-869c-4251-a1c9-684606a0e318",
     "showTitle": false,
     "title": ""
    },
    "colab_type": "text",
    "id": "6te6fSfCXvB0"
   },
   "source": [
    "### Q3: Your Turn: Display the top ten records of your data frame having missing content sizes"
   ]
  },
  {
   "cell_type": "code",
   "execution_count": null,
   "metadata": {
    "application/vnd.databricks.v1+cell": {
     "cellMetadata": {
      "byteLimit": 2048000,
      "rowLimit": 10000
     },
     "inputWidgets": {},
     "nuid": "6391602c-3902-4c06-90e2-6bbeff04ea52",
     "showTitle": false,
     "title": ""
    },
    "colab": {},
    "colab_type": "code",
    "id": "P1vwVWX4XvB1",
    "outputId": "c11b52c6-ed73-421f-8988-8eb6296c7e7a"
   },
   "outputs": [
    {
     "name": "stdout",
     "output_type": "stream",
     "text": [
      "+---------------------------------------------------------------------------------------------------------------------------+\n",
      "|value                                                                                                                      |\n",
      "+---------------------------------------------------------------------------------------------------------------------------+\n",
      "|gw1.att.com - - [01/Aug/1995:00:03:53 -0400] \"GET /shuttle/missions/sts-73/news HTTP/1.0\" 302 -                            |\n",
      "|js002.cc.utsunomiya-u.ac.jp - - [01/Aug/1995:00:07:33 -0400] \"GET /shuttle/resources/orbiters/discovery.gif HTTP/1.0\" 404 -|\n",
      "|tia1.eskimo.com - - [01/Aug/1995:00:28:41 -0400] \"GET /pub/winvn/release.txt HTTP/1.0\" 404 -                               |\n",
      "|itws.info.eng.niigata-u.ac.jp - - [01/Aug/1995:00:38:01 -0400] \"GET /ksc.html/facts/about_ksc.html HTTP/1.0\" 403 -         |\n",
      "|grimnet23.idirect.com - - [01/Aug/1995:00:50:12 -0400] \"GET /www/software/winvn/winvn.html HTTP/1.0\" 404 -                 |\n",
      "|miriworld.its.unimelb.edu.au - - [01/Aug/1995:01:04:54 -0400] \"GET /history/history.htm HTTP/1.0\" 404 -                    |\n",
      "|ras38.srv.net - - [01/Aug/1995:01:05:14 -0400] \"GET /elv/DELTA/uncons.htm HTTP/1.0\" 404 -                                  |\n",
      "|cs1-06.leh.ptd.net - - [01/Aug/1995:01:17:38 -0400] \"GET /sts-71/launch/\" 404 -                                            |\n",
      "|www-b2.proxy.aol.com - - [01/Aug/1995:01:22:07 -0400] \"GET /shuttle/countdown HTTP/1.0\" 302 -                              |\n",
      "|maui56.maui.net - - [01/Aug/1995:01:31:56 -0400] \"GET /shuttle HTTP/1.0\" 302 -                                             |\n",
      "+---------------------------------------------------------------------------------------------------------------------------+\n",
      "only showing top 10 rows\n",
      "\n"
     ]
    }
   ],
   "source": [
    "null_content_size_df.show(10,truncate=False)"
   ]
  },
  {
   "cell_type": "markdown",
   "metadata": {
    "application/vnd.databricks.v1+cell": {
     "cellMetadata": {
      "byteLimit": 2048000,
      "rowLimit": 10000
     },
     "inputWidgets": {},
     "nuid": "c7e36686-46ce-4958-9d8e-60308cca2d2a",
     "showTitle": false,
     "title": ""
    },
    "colab_type": "text",
    "id": "Rl3J6c5sXvB8"
   },
   "source": [
    "Assuming you were able to get to the missing records above, it is quite evident that the bad raw data records correspond to error responses, where no content was sent back and the server emitted a \"`-`\" for the `content_size` field. \n",
    "\n",
    "Since we don't want to discard those rows from our analysis, let's impute or fill them to 0."
   ]
  },
  {
   "cell_type": "markdown",
   "metadata": {
    "application/vnd.databricks.v1+cell": {
     "cellMetadata": {
      "byteLimit": 2048000,
      "rowLimit": 10000
     },
     "inputWidgets": {},
     "nuid": "b4b88bd4-e8e3-4516-97d8-3253fce16372",
     "showTitle": false,
     "title": ""
    },
    "colab_type": "text",
    "id": "2y3iD47fXvCB"
   },
   "source": [
    "### Q4: Your Turn: Fix the rows with null content\\_size\n",
    "\n",
    "The easiest solution is to replace the null values in `logs_df` with 0 like we discussed earlier. The Spark DataFrame API provides a set of functions and fields specifically designed for working with null values, among them:\n",
    "\n",
    "* [fillna()](http://spark.apache.org/docs/latest/api/python/pyspark.sql.html#pyspark.sql.DataFrame.fillna), which fills null values with specified non-null values.\n",
    "* [na](http://spark.apache.org/docs/latest/api/python/pyspark.sql.html#pyspark.sql.DataFrame.na), which returns a [DataFrameNaFunctions](http://spark.apache.org/docs/latest/api/python/pyspark.sql.html#pyspark.sql.DataFrameNaFunctions) object with many functions for operating on null columns.\n",
    "\n",
    "There are several ways to invoke this function. The easiest is just to replace _all_ null columns with known values. But, for safety, it's better to pass a Python dictionary containing (column\\_name, value) mappings. That's what we'll do. A sample example from the documentation is depicted below\n",
    "\n",
    "```\n",
    ">>> df4.na.fill({'age': 50, 'name': 'unknown'}).show()\n",
    "+---+------+-------+\n",
    "|age|height|   name|\n",
    "+---+------+-------+\n",
    "| 10|    80|  Alice|\n",
    "|  5|  null|    Bob|\n",
    "| 50|  null|    Tom|\n",
    "| 50|  null|unknown|\n",
    "+---+------+-------+\n",
    "```\n",
    "\n",
    "Now use this function and fill all the missing values in the `content_size` field with 0!"
   ]
  },
  {
   "cell_type": "code",
   "execution_count": null,
   "metadata": {
    "application/vnd.databricks.v1+cell": {
     "cellMetadata": {
      "byteLimit": 2048000,
      "rowLimit": 10000
     },
     "inputWidgets": {},
     "nuid": "eec175f3-91f7-43af-89b7-72ac6bb8f9bc",
     "showTitle": false,
     "title": ""
    },
    "colab": {},
    "colab_type": "code",
    "collapsed": true,
    "id": "_2w5KTE0XvCC",
    "jupyter": {
     "outputs_hidden": true
    },
    "outputId": "df4d371c-1376-4616-e2c7-9e35ddccf80e"
   },
   "outputs": [],
   "source": [
    "logs_df = logs_df.na.fill({'content_size': 0})"
   ]
  },
  {
   "cell_type": "markdown",
   "metadata": {
    "application/vnd.databricks.v1+cell": {
     "cellMetadata": {
      "byteLimit": 2048000,
      "rowLimit": 10000
     },
     "inputWidgets": {},
     "nuid": "4b94a9bf-d0ce-4351-aeb7-90be70467658",
     "showTitle": false,
     "title": ""
    },
    "colab_type": "text",
    "id": "zdjkzs6UXvCJ"
   },
   "source": [
    "Now assuming you were able to fill in the missing values successfully in the previous question, we should have no missing values \\ nulls in our dataset. Let's verify this!"
   ]
  },
  {
   "cell_type": "code",
   "execution_count": null,
   "metadata": {
    "application/vnd.databricks.v1+cell": {
     "cellMetadata": {
      "byteLimit": 2048000,
      "rowLimit": 10000
     },
     "inputWidgets": {},
     "nuid": "a92664cc-fe6b-4ee8-9692-f88bdb894633",
     "showTitle": false,
     "title": ""
    },
    "colab": {},
    "colab_type": "code",
    "id": "wDaLqVZOXvCK",
    "outputId": "a3097bef-1d37-4213-a6e8-a52b08c27947"
   },
   "outputs": [
    {
     "name": "stdout",
     "output_type": "stream",
     "text": [
      "+----+---------+------+--------+--------+------+------------+\n",
      "|host|timestamp|method|endpoint|protocol|status|content_size|\n",
      "+----+---------+------+--------+--------+------+------------+\n",
      "|   0|        0|     0|       0|       0|     0|           0|\n",
      "+----+---------+------+--------+--------+------+------------+\n",
      "\n"
     ]
    }
   ],
   "source": [
    "exprs = [count_null(col_name) for col_name in logs_df.columns]\n",
    "logs_df.agg(*exprs).show()"
   ]
  },
  {
   "cell_type": "markdown",
   "metadata": {
    "application/vnd.databricks.v1+cell": {
     "cellMetadata": {
      "byteLimit": 2048000,
      "rowLimit": 10000
     },
     "inputWidgets": {},
     "nuid": "77133c3e-d207-4128-aed4-ac45b295e481",
     "showTitle": false,
     "title": ""
    },
    "colab_type": "text",
    "id": "Bjr1f1m2XvCN"
   },
   "source": [
    "Look at that, no missing values!"
   ]
  },
  {
   "cell_type": "markdown",
   "metadata": {
    "application/vnd.databricks.v1+cell": {
     "cellMetadata": {
      "byteLimit": 2048000,
      "rowLimit": 10000
     },
     "inputWidgets": {},
     "nuid": "e4b369f7-687a-4448-a81b-792bb03da6db",
     "showTitle": false,
     "title": ""
    },
    "colab_type": "text",
    "id": "UFtYMGZhXvCN"
   },
   "source": [
    "## Handling Temporal Fields (Timestamp)\n",
    "\n",
    "Now that we have a clean, parsed DataFrame, we have to parse the timestamp field into an actual timestamp. The Common Log Format time is somewhat non-standard. A User-Defined Function (UDF) is the most straightforward way to parse it."
   ]
  },
  {
   "cell_type": "code",
   "execution_count": null,
   "metadata": {
    "application/vnd.databricks.v1+cell": {
     "cellMetadata": {
      "byteLimit": 2048000,
      "rowLimit": 10000
     },
     "inputWidgets": {},
     "nuid": "776e450f-3146-4a57-ae72-41e3dd0e9a8c",
     "showTitle": false,
     "title": ""
    },
    "colab": {},
    "colab_type": "code",
    "id": "k5t5VysnXvCS",
    "outputId": "bebe2bb0-65ec-4d43-dbc9-24cda3c32de0"
   },
   "outputs": [],
   "source": [
    "from pyspark.sql.functions import udf\n",
    "\n",
    "month_map = {\n",
    "  'Jan': 1, 'Feb': 2, 'Mar':3, 'Apr':4, 'May':5, 'Jun':6, 'Jul':7,\n",
    "  'Aug':8,  'Sep': 9, 'Oct':10, 'Nov': 11, 'Dec': 12\n",
    "}\n",
    "\n",
    "def parse_clf_time(text):\n",
    "    \"\"\" Convert Common Log time format into a Python datetime object\n",
    "    Args:\n",
    "        text (str): date and time in Apache time format [dd/mmm/yyyy:hh:mm:ss (+/-)zzzz]\n",
    "    Returns:\n",
    "        a string suitable for passing to CAST('timestamp')\n",
    "    \"\"\"\n",
    "    # NOTE: We're ignoring time zone here. In a production application, you'd want to handle that.\n",
    "    return \"{0:04d}-{1:02d}-{2:02d} {3:02d}:{4:02d}:{5:02d}\".format(\n",
    "      int(text[7:11]),\n",
    "      month_map[text[3:6]],\n",
    "      int(text[0:2]),\n",
    "      int(text[12:14]),\n",
    "      int(text[15:17]),\n",
    "      int(text[18:20])\n",
    "    )"
   ]
  },
  {
   "cell_type": "code",
   "execution_count": null,
   "metadata": {
    "application/vnd.databricks.v1+cell": {
     "cellMetadata": {
      "byteLimit": 2048000,
      "rowLimit": 10000
     },
     "inputWidgets": {},
     "nuid": "60da5fdd-0ab4-4d84-92a8-671642c2aadd",
     "showTitle": false,
     "title": ""
    },
    "colab": {},
    "colab_type": "code",
    "id": "RLJHPXHwXvCW",
    "outputId": "2e58d673-3c1b-45fa-f283-886c698cfc6d"
   },
   "outputs": [
    {
     "name": "stdout",
     "output_type": "stream",
     "text": [
      "Out[112]: ['01/Aug/1995:00:00:01 -0400',\n",
      " '01/Aug/1995:00:00:07 -0400',\n",
      " '01/Aug/1995:00:00:08 -0400',\n",
      " '01/Aug/1995:00:00:08 -0400',\n",
      " '01/Aug/1995:00:00:08 -0400']"
     ]
    }
   ],
   "source": [
    "sample_ts = [item['timestamp'] for item in logs_df.select('timestamp').take(5)]\n",
    "sample_ts"
   ]
  },
  {
   "cell_type": "code",
   "execution_count": null,
   "metadata": {
    "application/vnd.databricks.v1+cell": {
     "cellMetadata": {
      "byteLimit": 2048000,
      "rowLimit": 10000
     },
     "inputWidgets": {},
     "nuid": "832f07c4-1f3c-4f7a-bbe2-24b415114a9b",
     "showTitle": false,
     "title": ""
    },
    "colab": {},
    "colab_type": "code",
    "id": "0K5Yd1Z2XvCY",
    "outputId": "6108f5bb-bbd8-4c11-f9e4-efc491c543e0"
   },
   "outputs": [
    {
     "name": "stdout",
     "output_type": "stream",
     "text": [
      "Out[113]: ['1995-08-01 00:00:01',\n",
      " '1995-08-01 00:00:07',\n",
      " '1995-08-01 00:00:08',\n",
      " '1995-08-01 00:00:08',\n",
      " '1995-08-01 00:00:08']"
     ]
    }
   ],
   "source": [
    "[parse_clf_time(item) for item in sample_ts]"
   ]
  },
  {
   "cell_type": "code",
   "execution_count": null,
   "metadata": {
    "application/vnd.databricks.v1+cell": {
     "cellMetadata": {
      "byteLimit": 2048000,
      "rowLimit": 10000
     },
     "inputWidgets": {},
     "nuid": "17eb787e-21f9-423f-a79a-1734e87be17d",
     "showTitle": false,
     "title": ""
    },
    "colab": {},
    "colab_type": "code",
    "id": "WBbQ_QNsXvCb",
    "outputId": "b1e05731-4bff-410d-8c6f-d1637fd0f0a7"
   },
   "outputs": [
    {
     "name": "stdout",
     "output_type": "stream",
     "text": [
      "+--------------------+------+--------------------+--------+------+------------+-------------------+\n",
      "|                host|method|            endpoint|protocol|status|content_size|               time|\n",
      "+--------------------+------+--------------------+--------+------+------------+-------------------+\n",
      "|   in24.inetnebr.com|   GET|/shuttle/missions...|HTTP/1.0|   200|        1839|1995-08-01 00:00:01|\n",
      "|     uplherc.upl.com|   GET|                   /|HTTP/1.0|   304|           0|1995-08-01 00:00:07|\n",
      "|     uplherc.upl.com|   GET|/images/ksclogo-m...|HTTP/1.0|   304|           0|1995-08-01 00:00:08|\n",
      "|     uplherc.upl.com|   GET|/images/MOSAIC-lo...|HTTP/1.0|   304|           0|1995-08-01 00:00:08|\n",
      "|     uplherc.upl.com|   GET|/images/USA-logos...|HTTP/1.0|   304|           0|1995-08-01 00:00:08|\n",
      "|ix-esc-ca2-07.ix....|   GET|/images/launch-lo...|HTTP/1.0|   200|        1713|1995-08-01 00:00:09|\n",
      "|     uplherc.upl.com|   GET|/images/WORLD-log...|HTTP/1.0|   304|           0|1995-08-01 00:00:10|\n",
      "|slppp6.intermind.net|   GET|/history/skylab/s...|HTTP/1.0|   200|        1687|1995-08-01 00:00:10|\n",
      "|piweba4y.prodigy.com|   GET|/images/launchmed...|HTTP/1.0|   200|       11853|1995-08-01 00:00:10|\n",
      "|slppp6.intermind.net|   GET|/history/skylab/s...|HTTP/1.0|   200|        9202|1995-08-01 00:00:11|\n",
      "+--------------------+------+--------------------+--------+------+------------+-------------------+\n",
      "only showing top 10 rows\n",
      "\n"
     ]
    }
   ],
   "source": [
    "udf_parse_time = udf(parse_clf_time)\n",
    "\n",
    "logs_df = logs_df.select('*', udf_parse_time(logs_df['timestamp']).cast('timestamp').alias('time')).drop('timestamp')\n",
    "logs_df.show(10, truncate=True)"
   ]
  },
  {
   "cell_type": "code",
   "execution_count": null,
   "metadata": {
    "application/vnd.databricks.v1+cell": {
     "cellMetadata": {
      "byteLimit": 2048000,
      "rowLimit": 10000
     },
     "inputWidgets": {},
     "nuid": "8404e79a-99da-4646-9e72-92c04bead637",
     "showTitle": false,
     "title": ""
    },
    "colab": {},
    "colab_type": "code",
    "id": "9Yy-eIDtXvCi",
    "outputId": "913a1185-f22d-4ac9-856b-d31db17eca28"
   },
   "outputs": [
    {
     "name": "stdout",
     "output_type": "stream",
     "text": [
      "root\n",
      " |-- host: string (nullable = true)\n",
      " |-- method: string (nullable = true)\n",
      " |-- endpoint: string (nullable = true)\n",
      " |-- protocol: string (nullable = true)\n",
      " |-- status: integer (nullable = true)\n",
      " |-- content_size: integer (nullable = false)\n",
      " |-- time: timestamp (nullable = true)\n",
      "\n"
     ]
    }
   ],
   "source": [
    "logs_df.printSchema()"
   ]
  },
  {
   "cell_type": "code",
   "execution_count": null,
   "metadata": {
    "application/vnd.databricks.v1+cell": {
     "cellMetadata": {
      "byteLimit": 2048000,
      "rowLimit": 10000
     },
     "inputWidgets": {},
     "nuid": "de5a3d4e-59ee-47b0-b11d-c5122e081a47",
     "showTitle": false,
     "title": ""
    },
    "colab": {},
    "colab_type": "code",
    "id": "wfMB_2JvXvCk",
    "outputId": "dfb9673b-af0c-4232-d28f-674fa1662ac0"
   },
   "outputs": [
    {
     "data": {
      "text/html": [
       "<div>\n",
       "<style scoped>\n",
       "    .dataframe tbody tr th:only-of-type {\n",
       "        vertical-align: middle;\n",
       "    }\n",
       "\n",
       "    .dataframe tbody tr th {\n",
       "        vertical-align: top;\n",
       "    }\n",
       "\n",
       "    .dataframe thead th {\n",
       "        text-align: right;\n",
       "    }\n",
       "</style>\n",
       "<table border=\"1\" class=\"dataframe\">\n",
       "  <thead>\n",
       "    <tr style=\"text-align: right;\">\n",
       "      <th></th>\n",
       "      <th>host</th>\n",
       "      <th>method</th>\n",
       "      <th>endpoint</th>\n",
       "      <th>protocol</th>\n",
       "      <th>status</th>\n",
       "      <th>content_size</th>\n",
       "      <th>time</th>\n",
       "    </tr>\n",
       "  </thead>\n",
       "  <tbody>\n",
       "    <tr>\n",
       "      <th>0</th>\n",
       "      <td>in24.inetnebr.com</td>\n",
       "      <td>GET</td>\n",
       "      <td>/shuttle/missions/sts-68/news/sts-68-mcc-05.txt</td>\n",
       "      <td>HTTP/1.0</td>\n",
       "      <td>200</td>\n",
       "      <td>1839</td>\n",
       "      <td>1995-08-01 00:00:01</td>\n",
       "    </tr>\n",
       "    <tr>\n",
       "      <th>1</th>\n",
       "      <td>uplherc.upl.com</td>\n",
       "      <td>GET</td>\n",
       "      <td>/</td>\n",
       "      <td>HTTP/1.0</td>\n",
       "      <td>304</td>\n",
       "      <td>0</td>\n",
       "      <td>1995-08-01 00:00:07</td>\n",
       "    </tr>\n",
       "    <tr>\n",
       "      <th>2</th>\n",
       "      <td>uplherc.upl.com</td>\n",
       "      <td>GET</td>\n",
       "      <td>/images/ksclogo-medium.gif</td>\n",
       "      <td>HTTP/1.0</td>\n",
       "      <td>304</td>\n",
       "      <td>0</td>\n",
       "      <td>1995-08-01 00:00:08</td>\n",
       "    </tr>\n",
       "    <tr>\n",
       "      <th>3</th>\n",
       "      <td>uplherc.upl.com</td>\n",
       "      <td>GET</td>\n",
       "      <td>/images/MOSAIC-logosmall.gif</td>\n",
       "      <td>HTTP/1.0</td>\n",
       "      <td>304</td>\n",
       "      <td>0</td>\n",
       "      <td>1995-08-01 00:00:08</td>\n",
       "    </tr>\n",
       "    <tr>\n",
       "      <th>4</th>\n",
       "      <td>uplherc.upl.com</td>\n",
       "      <td>GET</td>\n",
       "      <td>/images/USA-logosmall.gif</td>\n",
       "      <td>HTTP/1.0</td>\n",
       "      <td>304</td>\n",
       "      <td>0</td>\n",
       "      <td>1995-08-01 00:00:08</td>\n",
       "    </tr>\n",
       "  </tbody>\n",
       "</table>\n",
       "</div>"
      ]
     },
     "metadata": {
      "application/vnd.databricks.v1+output": {
       "addedWidgets": {},
       "arguments": {},
       "data": "<div>\n<style scoped>\n    .dataframe tbody tr th:only-of-type {\n        vertical-align: middle;\n    }\n\n    .dataframe tbody tr th {\n        vertical-align: top;\n    }\n\n    .dataframe thead th {\n        text-align: right;\n    }\n</style>\n<table border=\"1\" class=\"dataframe\">\n  <thead>\n    <tr style=\"text-align: right;\">\n      <th></th>\n      <th>host</th>\n      <th>method</th>\n      <th>endpoint</th>\n      <th>protocol</th>\n      <th>status</th>\n      <th>content_size</th>\n      <th>time</th>\n    </tr>\n  </thead>\n  <tbody>\n    <tr>\n      <th>0</th>\n      <td>in24.inetnebr.com</td>\n      <td>GET</td>\n      <td>/shuttle/missions/sts-68/news/sts-68-mcc-05.txt</td>\n      <td>HTTP/1.0</td>\n      <td>200</td>\n      <td>1839</td>\n      <td>1995-08-01 00:00:01</td>\n    </tr>\n    <tr>\n      <th>1</th>\n      <td>uplherc.upl.com</td>\n      <td>GET</td>\n      <td>/</td>\n      <td>HTTP/1.0</td>\n      <td>304</td>\n      <td>0</td>\n      <td>1995-08-01 00:00:07</td>\n    </tr>\n    <tr>\n      <th>2</th>\n      <td>uplherc.upl.com</td>\n      <td>GET</td>\n      <td>/images/ksclogo-medium.gif</td>\n      <td>HTTP/1.0</td>\n      <td>304</td>\n      <td>0</td>\n      <td>1995-08-01 00:00:08</td>\n    </tr>\n    <tr>\n      <th>3</th>\n      <td>uplherc.upl.com</td>\n      <td>GET</td>\n      <td>/images/MOSAIC-logosmall.gif</td>\n      <td>HTTP/1.0</td>\n      <td>304</td>\n      <td>0</td>\n      <td>1995-08-01 00:00:08</td>\n    </tr>\n    <tr>\n      <th>4</th>\n      <td>uplherc.upl.com</td>\n      <td>GET</td>\n      <td>/images/USA-logosmall.gif</td>\n      <td>HTTP/1.0</td>\n      <td>304</td>\n      <td>0</td>\n      <td>1995-08-01 00:00:08</td>\n    </tr>\n  </tbody>\n</table>\n</div>",
       "datasetInfos": [],
       "metadata": {},
       "removedWidgets": [],
       "textData": null,
       "type": "htmlSandbox"
      }
     },
     "output_type": "display_data"
    }
   ],
   "source": [
    "logs_df.limit(5).toPandas()"
   ]
  },
  {
   "cell_type": "markdown",
   "metadata": {
    "application/vnd.databricks.v1+cell": {
     "cellMetadata": {
      "byteLimit": 2048000,
      "rowLimit": 10000
     },
     "inputWidgets": {},
     "nuid": "b8606d77-987f-44b2-bc7c-c0be885f9c58",
     "showTitle": false,
     "title": ""
    },
    "colab_type": "text",
    "id": "cn3ghlDsXvCp"
   },
   "source": [
    "Let's now cache `logs_df` since we will be using it extensively for our data analysis section in the next part!"
   ]
  },
  {
   "cell_type": "markdown",
   "metadata": {
    "application/vnd.databricks.v1+cell": {
     "cellMetadata": {
      "byteLimit": 2048000,
      "rowLimit": 10000
     },
     "inputWidgets": {},
     "nuid": "9b4a7a22-7c5d-4abb-9cc8-b4ce7dcb65b3",
     "showTitle": false,
     "title": ""
    },
    "colab_type": "text",
    "id": "1WTHkvANXvCq"
   },
   "source": [
    "# Step 2 - Exploratory Data Analysis on our Web Logs\n",
    "\n",
    "Now that we have a DataFrame containing the parsed log file as a data frame, we can perform some interesting exploratory data analysis (EDA)\n",
    "\n",
    "## Example: Content Size Statistics\n",
    "\n",
    "Let's compute some statistics about the sizes of content being returned by the web server. In particular, we'd like to know what are the average, minimum, and maximum content sizes.\n",
    "\n",
    "We can compute the statistics by calling `.describe()` on the `content_size` column of `logs_df`.  The `.describe()` function returns the count, mean, stddev, min, and max of a given column."
   ]
  },
  {
   "cell_type": "code",
   "execution_count": null,
   "metadata": {
    "application/vnd.databricks.v1+cell": {
     "cellMetadata": {
      "byteLimit": 2048000,
      "rowLimit": 10000
     },
     "inputWidgets": {},
     "nuid": "f327e6cf-04b8-4299-b547-237e4c7b3cdf",
     "showTitle": false,
     "title": ""
    },
    "colab": {},
    "colab_type": "code",
    "id": "FHkVy3ZXXvCr",
    "outputId": "cd083d90-c450-4d64-9d56-c8e1f5dd1eed"
   },
   "outputs": [
    {
     "data": {
      "text/html": [
       "<div>\n",
       "<style scoped>\n",
       "    .dataframe tbody tr th:only-of-type {\n",
       "        vertical-align: middle;\n",
       "    }\n",
       "\n",
       "    .dataframe tbody tr th {\n",
       "        vertical-align: top;\n",
       "    }\n",
       "\n",
       "    .dataframe thead th {\n",
       "        text-align: right;\n",
       "    }\n",
       "</style>\n",
       "<table border=\"1\" class=\"dataframe\">\n",
       "  <thead>\n",
       "    <tr style=\"text-align: right;\">\n",
       "      <th></th>\n",
       "      <th>summary</th>\n",
       "      <th>content_size</th>\n",
       "    </tr>\n",
       "  </thead>\n",
       "  <tbody>\n",
       "    <tr>\n",
       "      <th>0</th>\n",
       "      <td>count</td>\n",
       "      <td>3461612</td>\n",
       "    </tr>\n",
       "    <tr>\n",
       "      <th>1</th>\n",
       "      <td>mean</td>\n",
       "      <td>18928.844398216785</td>\n",
       "    </tr>\n",
       "    <tr>\n",
       "      <th>2</th>\n",
       "      <td>stddev</td>\n",
       "      <td>73031.47260949282</td>\n",
       "    </tr>\n",
       "    <tr>\n",
       "      <th>3</th>\n",
       "      <td>min</td>\n",
       "      <td>0</td>\n",
       "    </tr>\n",
       "    <tr>\n",
       "      <th>4</th>\n",
       "      <td>max</td>\n",
       "      <td>6823936</td>\n",
       "    </tr>\n",
       "  </tbody>\n",
       "</table>\n",
       "</div>"
      ]
     },
     "metadata": {
      "application/vnd.databricks.v1+output": {
       "addedWidgets": {},
       "arguments": {},
       "data": "<div>\n<style scoped>\n    .dataframe tbody tr th:only-of-type {\n        vertical-align: middle;\n    }\n\n    .dataframe tbody tr th {\n        vertical-align: top;\n    }\n\n    .dataframe thead th {\n        text-align: right;\n    }\n</style>\n<table border=\"1\" class=\"dataframe\">\n  <thead>\n    <tr style=\"text-align: right;\">\n      <th></th>\n      <th>summary</th>\n      <th>content_size</th>\n    </tr>\n  </thead>\n  <tbody>\n    <tr>\n      <th>0</th>\n      <td>count</td>\n      <td>3461612</td>\n    </tr>\n    <tr>\n      <th>1</th>\n      <td>mean</td>\n      <td>18928.844398216785</td>\n    </tr>\n    <tr>\n      <th>2</th>\n      <td>stddev</td>\n      <td>73031.47260949282</td>\n    </tr>\n    <tr>\n      <th>3</th>\n      <td>min</td>\n      <td>0</td>\n    </tr>\n    <tr>\n      <th>4</th>\n      <td>max</td>\n      <td>6823936</td>\n    </tr>\n  </tbody>\n</table>\n</div>",
       "datasetInfos": [],
       "metadata": {},
       "removedWidgets": [],
       "textData": null,
       "type": "htmlSandbox"
      }
     },
     "output_type": "display_data"
    }
   ],
   "source": [
    "content_size_summary_df = logs_df.describe(['content_size'])\n",
    "content_size_summary_df.toPandas()"
   ]
  },
  {
   "cell_type": "markdown",
   "metadata": {
    "application/vnd.databricks.v1+cell": {
     "cellMetadata": {
      "byteLimit": 2048000,
      "rowLimit": 10000
     },
     "inputWidgets": {},
     "nuid": "872ebe2c-84a1-4faf-9944-e88d033eb24c",
     "showTitle": false,
     "title": ""
    },
    "colab_type": "text",
    "id": "fY1S9FPAXvCv"
   },
   "source": [
    "Alternatively, we can use SQL to directly calculate these statistics.  You can explore many useful functions within the `pyspark.sql.functions` module in the [documentation](https://spark.apache.org/docs/latest/api/python/pyspark.sql.html#module-pyspark.sql.functions).\n",
    "\n",
    "After we apply the `.agg()` function, we call `toPandas()` to extract and convert the result into a `pandas` dataframe which has better formatting on Jupyter notebooks"
   ]
  },
  {
   "cell_type": "code",
   "execution_count": null,
   "metadata": {
    "application/vnd.databricks.v1+cell": {
     "cellMetadata": {
      "byteLimit": 2048000,
      "rowLimit": 10000
     },
     "inputWidgets": {},
     "nuid": "34fb1f5d-e8d8-4975-9f03-aea2b669cecf",
     "showTitle": false,
     "title": ""
    },
    "colab": {},
    "colab_type": "code",
    "id": "nonAax8AXvCx",
    "outputId": "1a9a01ac-35f3-44ab-f105-5759f8f79b9a"
   },
   "outputs": [
    {
     "data": {
      "text/html": [
       "<div>\n",
       "<style scoped>\n",
       "    .dataframe tbody tr th:only-of-type {\n",
       "        vertical-align: middle;\n",
       "    }\n",
       "\n",
       "    .dataframe tbody tr th {\n",
       "        vertical-align: top;\n",
       "    }\n",
       "\n",
       "    .dataframe thead th {\n",
       "        text-align: right;\n",
       "    }\n",
       "</style>\n",
       "<table border=\"1\" class=\"dataframe\">\n",
       "  <thead>\n",
       "    <tr style=\"text-align: right;\">\n",
       "      <th></th>\n",
       "      <th>min_content_size</th>\n",
       "      <th>max_content_size</th>\n",
       "      <th>mean_content_size</th>\n",
       "      <th>std_content_size</th>\n",
       "      <th>count_content_size</th>\n",
       "    </tr>\n",
       "  </thead>\n",
       "  <tbody>\n",
       "    <tr>\n",
       "      <th>0</th>\n",
       "      <td>0</td>\n",
       "      <td>6823936</td>\n",
       "      <td>18928.844398</td>\n",
       "      <td>73031.472609</td>\n",
       "      <td>3461612</td>\n",
       "    </tr>\n",
       "  </tbody>\n",
       "</table>\n",
       "</div>"
      ]
     },
     "metadata": {
      "application/vnd.databricks.v1+output": {
       "addedWidgets": {},
       "arguments": {},
       "data": "<div>\n<style scoped>\n    .dataframe tbody tr th:only-of-type {\n        vertical-align: middle;\n    }\n\n    .dataframe tbody tr th {\n        vertical-align: top;\n    }\n\n    .dataframe thead th {\n        text-align: right;\n    }\n</style>\n<table border=\"1\" class=\"dataframe\">\n  <thead>\n    <tr style=\"text-align: right;\">\n      <th></th>\n      <th>min_content_size</th>\n      <th>max_content_size</th>\n      <th>mean_content_size</th>\n      <th>std_content_size</th>\n      <th>count_content_size</th>\n    </tr>\n  </thead>\n  <tbody>\n    <tr>\n      <th>0</th>\n      <td>0</td>\n      <td>6823936</td>\n      <td>18928.844398</td>\n      <td>73031.472609</td>\n      <td>3461612</td>\n    </tr>\n  </tbody>\n</table>\n</div>",
       "datasetInfos": [],
       "metadata": {},
       "removedWidgets": [],
       "textData": null,
       "type": "htmlSandbox"
      }
     },
     "output_type": "display_data"
    }
   ],
   "source": [
    "from pyspark.sql import functions as F\n",
    "\n",
    "(logs_df.agg(F.min(logs_df['content_size']).alias('min_content_size'),\n",
    "             F.max(logs_df['content_size']).alias('max_content_size'),\n",
    "             F.mean(logs_df['content_size']).alias('mean_content_size'),\n",
    "             F.stddev(logs_df['content_size']).alias('std_content_size'),\n",
    "             F.count(logs_df['content_size']).alias('count_content_size'))\n",
    "        .toPandas())"
   ]
  },
  {
   "cell_type": "markdown",
   "metadata": {
    "application/vnd.databricks.v1+cell": {
     "cellMetadata": {
      "byteLimit": 2048000,
      "rowLimit": 10000
     },
     "inputWidgets": {},
     "nuid": "f5ba76d7-b228-4078-a7ca-b2fc3c7acb32",
     "showTitle": false,
     "title": ""
    },
    "colab_type": "text",
    "id": "8hat3HPwXvC0"
   },
   "source": [
    "## Example: HTTP Status Code Analysis\n",
    "\n",
    "Next, let's look at the status code values that appear in the log. We want to know which status code values appear in the data and how many times.  \n",
    "\n",
    "We again start with `logs_df`, then group by the `status` column, apply the `.count()` aggregation function, and sort by the `status` column."
   ]
  },
  {
   "cell_type": "code",
   "execution_count": null,
   "metadata": {
    "application/vnd.databricks.v1+cell": {
     "cellMetadata": {
      "byteLimit": 2048000,
      "rowLimit": 10000
     },
     "inputWidgets": {},
     "nuid": "26d25fe2-9929-4927-a25b-577520de28bb",
     "showTitle": false,
     "title": ""
    },
    "colab": {},
    "colab_type": "code",
    "collapsed": true,
    "id": "jL-vEt0FXvC1",
    "jupyter": {
     "outputs_hidden": true
    },
    "outputId": "8ee8079f-8b03-4e70-8335-cbd7b2d0b1bc"
   },
   "outputs": [],
   "source": [
    "status_freq_df = (logs_df\n",
    "                     .groupBy('status')\n",
    "                     .count()\n",
    "                     .sort('status')\n",
    "                     .cache())"
   ]
  },
  {
   "cell_type": "code",
   "execution_count": null,
   "metadata": {
    "application/vnd.databricks.v1+cell": {
     "cellMetadata": {
      "byteLimit": 2048000,
      "rowLimit": 10000
     },
     "inputWidgets": {},
     "nuid": "18b3b3c0-ac07-4725-a269-822d1f9e8af9",
     "showTitle": false,
     "title": ""
    },
    "colab": {},
    "colab_type": "code",
    "id": "a0iPsCW2XvC3",
    "outputId": "64fbd3f8-cf08-4ca3-de33-32349d3d6597"
   },
   "outputs": [
    {
     "name": "stdout",
     "output_type": "stream",
     "text": [
      "Total distinct HTTP Status Codes: 8\n"
     ]
    }
   ],
   "source": [
    "print('Total distinct HTTP Status Codes:', status_freq_df.count())"
   ]
  },
  {
   "cell_type": "code",
   "execution_count": null,
   "metadata": {
    "application/vnd.databricks.v1+cell": {
     "cellMetadata": {
      "byteLimit": 2048000,
      "rowLimit": 10000
     },
     "inputWidgets": {},
     "nuid": "6987c707-808c-4bfb-a7b5-0b16cbe011da",
     "showTitle": false,
     "title": ""
    },
    "colab": {},
    "colab_type": "code",
    "id": "SZO7ncjdXvC6",
    "outputId": "0344aef8-367b-476b-fc2c-e6c1346d3da9"
   },
   "outputs": [
    {
     "data": {
      "text/html": [
       "<div>\n",
       "<style scoped>\n",
       "    .dataframe tbody tr th:only-of-type {\n",
       "        vertical-align: middle;\n",
       "    }\n",
       "\n",
       "    .dataframe tbody tr th {\n",
       "        vertical-align: top;\n",
       "    }\n",
       "\n",
       "    .dataframe thead th {\n",
       "        text-align: right;\n",
       "    }\n",
       "</style>\n",
       "<table border=\"1\" class=\"dataframe\">\n",
       "  <thead>\n",
       "    <tr style=\"text-align: right;\">\n",
       "      <th></th>\n",
       "      <th>status</th>\n",
       "      <th>count</th>\n",
       "    </tr>\n",
       "  </thead>\n",
       "  <tbody>\n",
       "    <tr>\n",
       "      <th>0</th>\n",
       "      <td>200</td>\n",
       "      <td>3100524</td>\n",
       "    </tr>\n",
       "    <tr>\n",
       "      <th>1</th>\n",
       "      <td>302</td>\n",
       "      <td>73070</td>\n",
       "    </tr>\n",
       "    <tr>\n",
       "      <th>2</th>\n",
       "      <td>304</td>\n",
       "      <td>266773</td>\n",
       "    </tr>\n",
       "    <tr>\n",
       "      <th>3</th>\n",
       "      <td>400</td>\n",
       "      <td>15</td>\n",
       "    </tr>\n",
       "    <tr>\n",
       "      <th>4</th>\n",
       "      <td>403</td>\n",
       "      <td>225</td>\n",
       "    </tr>\n",
       "    <tr>\n",
       "      <th>5</th>\n",
       "      <td>404</td>\n",
       "      <td>20899</td>\n",
       "    </tr>\n",
       "    <tr>\n",
       "      <th>6</th>\n",
       "      <td>500</td>\n",
       "      <td>65</td>\n",
       "    </tr>\n",
       "    <tr>\n",
       "      <th>7</th>\n",
       "      <td>501</td>\n",
       "      <td>41</td>\n",
       "    </tr>\n",
       "  </tbody>\n",
       "</table>\n",
       "</div>"
      ]
     },
     "metadata": {
      "application/vnd.databricks.v1+output": {
       "addedWidgets": {},
       "arguments": {},
       "data": "<div>\n<style scoped>\n    .dataframe tbody tr th:only-of-type {\n        vertical-align: middle;\n    }\n\n    .dataframe tbody tr th {\n        vertical-align: top;\n    }\n\n    .dataframe thead th {\n        text-align: right;\n    }\n</style>\n<table border=\"1\" class=\"dataframe\">\n  <thead>\n    <tr style=\"text-align: right;\">\n      <th></th>\n      <th>status</th>\n      <th>count</th>\n    </tr>\n  </thead>\n  <tbody>\n    <tr>\n      <th>0</th>\n      <td>200</td>\n      <td>3100524</td>\n    </tr>\n    <tr>\n      <th>1</th>\n      <td>302</td>\n      <td>73070</td>\n    </tr>\n    <tr>\n      <th>2</th>\n      <td>304</td>\n      <td>266773</td>\n    </tr>\n    <tr>\n      <th>3</th>\n      <td>400</td>\n      <td>15</td>\n    </tr>\n    <tr>\n      <th>4</th>\n      <td>403</td>\n      <td>225</td>\n    </tr>\n    <tr>\n      <th>5</th>\n      <td>404</td>\n      <td>20899</td>\n    </tr>\n    <tr>\n      <th>6</th>\n      <td>500</td>\n      <td>65</td>\n    </tr>\n    <tr>\n      <th>7</th>\n      <td>501</td>\n      <td>41</td>\n    </tr>\n  </tbody>\n</table>\n</div>",
       "datasetInfos": [],
       "metadata": {},
       "removedWidgets": [],
       "textData": null,
       "type": "htmlSandbox"
      }
     },
     "output_type": "display_data"
    }
   ],
   "source": [
    "status_freq_pd_df = status_freq_df.toPandas()\n",
    "status_freq_pd_df"
   ]
  },
  {
   "cell_type": "code",
   "execution_count": null,
   "metadata": {
    "application/vnd.databricks.v1+cell": {
     "cellMetadata": {
      "byteLimit": 2048000,
      "rowLimit": 10000
     },
     "inputWidgets": {},
     "nuid": "8ee08db1-f2cf-43d7-ba97-cf58a01e81be",
     "showTitle": false,
     "title": ""
    },
    "colab": {},
    "colab_type": "code",
    "id": "KXkKQA-WXvC8"
   },
   "outputs": [
    {
     "name": "stdout",
     "output_type": "stream",
     "text": [
      "Out[122]: <AxesSubplot:xlabel='status'>"
     ]
    },
    {
     "data": {
      "image/png": "[encoded data removed]"
     },
     "metadata": {
      "application/vnd.databricks.v1+output": {
       "addedWidgets": {},
       "arguments": {},
       "data": "data:image/png;base64,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\n",
       "datasetInfos": [],
       "metadata": {},
       "removedWidgets": [],
       "type": "image"
      }
     },
     "output_type": "display_data"
    }
   ],
   "source": [
    "import matplotlib.pyplot as plt\n",
    "%matplotlib inline\n",
    "\n",
    "status_freq_pd_df.plot(x='status', y='count', kind='bar')"
   ]
  },
  {
   "cell_type": "code",
   "execution_count": null,
   "metadata": {
    "application/vnd.databricks.v1+cell": {
     "cellMetadata": {
      "byteLimit": 2048000,
      "rowLimit": 10000
     },
     "inputWidgets": {},
     "nuid": "fe04cbf6-ed94-4b92-bc2a-69f3ec254a5b",
     "showTitle": false,
     "title": ""
    },
    "colab": {},
    "colab_type": "code",
    "id": "iabid8S6XvC_",
    "outputId": "31df7ac0-35f9-4f9e-f059-c4267865c9b6"
   },
   "outputs": [
    {
     "name": "stdout",
     "output_type": "stream",
     "text": [
      "+------+-------+------------------+\n",
      "|status|  count|        log(count)|\n",
      "+------+-------+------------------+\n",
      "|   200|3100524|14.947081687429097|\n",
      "|   302|  73070|11.199173164785263|\n",
      "|   304| 266773|12.494153388502301|\n",
      "|   400|     15|  2.70805020110221|\n",
      "|   403|    225|  5.41610040220442|\n",
      "|   404|  20899| 9.947456589918252|\n",
      "|   500|     65| 4.174387269895637|\n",
      "|   501|     41| 3.713572066704308|\n",
      "+------+-------+------------------+\n",
      "\n"
     ]
    }
   ],
   "source": [
    "log_freq_df = status_freq_df.withColumn('log(count)', F.log(status_freq_df['count']))\n",
    "log_freq_df.show()"
   ]
  },
  {
   "cell_type": "markdown",
   "metadata": {
    "application/vnd.databricks.v1+cell": {
     "cellMetadata": {
      "byteLimit": 2048000,
      "rowLimit": 10000
     },
     "inputWidgets": {},
     "nuid": "25477882-e2d4-44fe-9d74-d891dde45a24",
     "showTitle": false,
     "title": ""
    },
    "colab_type": "text",
    "id": "CWcfTjlUXvDC"
   },
   "source": [
    "#### Q5: Your Turn: Convert the log\\_freq\\_df to a pandas DataFrame and plot a bar chart displaying counts of each HTTP Status Code"
   ]
  },
  {
   "cell_type": "code",
   "execution_count": null,
   "metadata": {
    "application/vnd.databricks.v1+cell": {
     "cellMetadata": {
      "byteLimit": 2048000,
      "rowLimit": 10000
     },
     "inputWidgets": {},
     "nuid": "a08c2bcb-fa87-4889-90df-3719c705ca35",
     "showTitle": false,
     "title": ""
    },
    "colab": {},
    "colab_type": "code",
    "id": "RWWwF5NcXvDD"
   },
   "outputs": [
    {
     "name": "stdout",
     "output_type": "stream",
     "text": [
      "+------+-------+------------------+\n",
      "|status|  count|        log(count)|\n",
      "+------+-------+------------------+\n",
      "|   200|3100524|14.947081687429097|\n",
      "|   302|  73070|11.199173164785263|\n",
      "|   304| 266773|12.494153388502301|\n",
      "|   400|     15|  2.70805020110221|\n",
      "|   403|    225|  5.41610040220442|\n",
      "|   404|  20899| 9.947456589918252|\n",
      "|   500|     65| 4.174387269895637|\n",
      "|   501|     41| 3.713572066704308|\n",
      "+------+-------+------------------+\n",
      "\n"
     ]
    }
   ],
   "source": [
    "log_freq_df = status_freq_df.withColumn('log(count)', F.log(status_freq_df['count']))\n",
    "log_freq_df.show()"
   ]
  },
  {
   "cell_type": "markdown",
   "metadata": {
    "application/vnd.databricks.v1+cell": {
     "cellMetadata": {
      "byteLimit": 2048000,
      "rowLimit": 10000
     },
     "inputWidgets": {},
     "nuid": "7dc810a2-8fe6-40a9-9745-fd66cb18b956",
     "showTitle": false,
     "title": ""
    },
    "colab_type": "text",
    "id": "k5oXMLxSXvDH"
   },
   "source": [
    "## Your Turn: Q6: Analyzing Frequent Hosts\n",
    "\n",
    "Let's look at hosts that have accessed the server frequently. Try to get the count of total accesses by each `host` and then sort by the counts and display only the top ten most frequent hosts.\n",
    "\n",
    "__Hints:__\n",
    "\n",
    "- Your Spark DataFrame has a `host` column\n",
    "- Get the counts per `host` which would make a `count` column\n",
    "- Sort by the counts. Please check [__the documentation__](https://spark.apache.org/docs/latest/api/python/pyspark.sql.html#pyspark.sql.DataFrame.sort) to see how to sort in reverse\n",
    "- Remember only to get the top 10 rows from the aggregated dataframe and show them"
   ]
  },
  {
   "cell_type": "code",
   "execution_count": null,
   "metadata": {
    "application/vnd.databricks.v1+cell": {
     "cellMetadata": {
      "byteLimit": 2048000,
      "rowLimit": 10000
     },
     "inputWidgets": {},
     "nuid": "7e372752-b19b-4aca-80de-baee4b9e2156",
     "showTitle": false,
     "title": ""
    },
    "colab": {},
    "colab_type": "code",
    "id": "eBBayokUXvDM",
    "outputId": "83a26ad7-21c2-4b15-b527-5de9ac5b8c5c"
   },
   "outputs": [
    {
     "name": "stdout",
     "output_type": "stream",
     "text": [
      "+--------------------+-----+\n",
      "|host                |count|\n",
      "+--------------------+-----+\n",
      "|piweba3y.prodigy.com|21988|\n",
      "|piweba4y.prodigy.com|16437|\n",
      "|piweba1y.prodigy.com|12825|\n",
      "|edams.ksc.nasa.gov  |11964|\n",
      "|163.206.89.4        |9697 |\n",
      "|news.ti.com         |8161 |\n",
      "|www-d1.proxy.aol.com|8047 |\n",
      "|alyssa.prodigy.com  |8037 |\n",
      "|                    |7660 |\n",
      "|siltb10.orl.mmc.com |7573 |\n",
      "+--------------------+-----+\n",
      "\n"
     ]
    }
   ],
   "source": [
    "host_sum_df =(logs_df\n",
    "                 .groupBy('host')\n",
    "                 .count()\n",
    "                 .sort('count',ascending = False)\n",
    "                 .cache()\n",
    "                 .limit(10))\n",
    "\n",
    "host_sum_df.show(truncate=False)"
   ]
  },
  {
   "cell_type": "code",
   "execution_count": null,
   "metadata": {
    "application/vnd.databricks.v1+cell": {
     "cellMetadata": {
      "byteLimit": 2048000,
      "rowLimit": 10000
     },
     "inputWidgets": {},
     "nuid": "2d97dff3-5a81-4918-ae86-a831ecc024bb",
     "showTitle": false,
     "title": ""
    },
    "colab": {},
    "colab_type": "code",
    "id": "1dv8Ny3iXvDQ",
    "outputId": "ea532f95-2ff4-4e36-abc5-36297902d8e6"
   },
   "outputs": [
    {
     "name": "stdout",
     "output_type": "stream",
     "text": [
      "Out[126]: ''"
     ]
    }
   ],
   "source": [
    "host_sum_pd_df = host_sum_df.toPandas()\n",
    "host_sum_pd_df.iloc[8]['host']"
   ]
  },
  {
   "cell_type": "markdown",
   "metadata": {
    "application/vnd.databricks.v1+cell": {
     "cellMetadata": {
      "byteLimit": 2048000,
      "rowLimit": 10000
     },
     "inputWidgets": {},
     "nuid": "d9c0b029-86aa-4163-8589-fe236176893d",
     "showTitle": false,
     "title": ""
    },
    "colab_type": "text",
    "id": "qJNpJU2VXvDT"
   },
   "source": [
    "Looks like we have some empty strings as one of the top host names! This teaches us a valuable lesson to not just check for nulls but also potentially empty strings when data wrangling."
   ]
  },
  {
   "cell_type": "markdown",
   "metadata": {
    "application/vnd.databricks.v1+cell": {
     "cellMetadata": {
      "byteLimit": 2048000,
      "rowLimit": 10000
     },
     "inputWidgets": {},
     "nuid": "dfa06515-795c-4625-8fb0-d3a248cf3184",
     "showTitle": false,
     "title": ""
    },
    "colab_type": "text",
    "id": "Pq5jiBtIXvDU"
   },
   "source": [
    "## Your Turn: Q7: Display the Top 20 Frequent EndPoints\n",
    "\n",
    "Now, let's visualize the number of hits to endpoints (URIs) in the log. To perform this task, start with our `logs_df` and group by the `endpoint` column, aggregate by count, and sort in descending order like the previous question. Also remember to show only the top 20 most frequently accessed endpoints"
   ]
  },
  {
   "cell_type": "code",
   "execution_count": null,
   "metadata": {
    "application/vnd.databricks.v1+cell": {
     "cellMetadata": {
      "byteLimit": 2048000,
      "rowLimit": 10000
     },
     "inputWidgets": {},
     "nuid": "2109111b-f5f4-44e5-a653-b619dd84ce54",
     "showTitle": false,
     "title": ""
    },
    "colab": {},
    "colab_type": "code",
    "id": "oxZRXX-AXvDU",
    "outputId": "bae76bd6-6f67-478c-ea46-928f545cf4bc"
   },
   "outputs": [],
   "source": [
    "paths_df = (logs_df\n",
    "               .groupBy('endpoint')\n",
    "               .count()\n",
    "               .sort('count',ascending=False)\n",
    "               .cache()\n",
    "               .limit(20))"
   ]
  },
  {
   "cell_type": "code",
   "execution_count": null,
   "metadata": {
    "application/vnd.databricks.v1+cell": {
     "cellMetadata": {
      "byteLimit": 2048000,
      "rowLimit": 10000
     },
     "inputWidgets": {},
     "nuid": "2e885cc4-7e6a-4ef3-acdd-4b05cacddc1c",
     "showTitle": false,
     "title": ""
    },
    "colab": {},
    "colab_type": "code",
    "id": "DwfjJG2jXvDX",
    "outputId": "d44c9385-5a6b-4157-83bc-d4d6832cc6a6"
   },
   "outputs": [
    {
     "data": {
      "text/html": [
       "<div>\n",
       "<style scoped>\n",
       "    .dataframe tbody tr th:only-of-type {\n",
       "        vertical-align: middle;\n",
       "    }\n",
       "\n",
       "    .dataframe tbody tr th {\n",
       "        vertical-align: top;\n",
       "    }\n",
       "\n",
       "    .dataframe thead th {\n",
       "        text-align: right;\n",
       "    }\n",
       "</style>\n",
       "<table border=\"1\" class=\"dataframe\">\n",
       "  <thead>\n",
       "    <tr style=\"text-align: right;\">\n",
       "      <th></th>\n",
       "      <th>endpoint</th>\n",
       "      <th>count</th>\n",
       "    </tr>\n",
       "  </thead>\n",
       "  <tbody>\n",
       "    <tr>\n",
       "      <th>0</th>\n",
       "      <td>/images/NASA-logosmall.gif</td>\n",
       "      <td>208714</td>\n",
       "    </tr>\n",
       "    <tr>\n",
       "      <th>1</th>\n",
       "      <td>/images/KSC-logosmall.gif</td>\n",
       "      <td>164970</td>\n",
       "    </tr>\n",
       "    <tr>\n",
       "      <th>2</th>\n",
       "      <td>/images/MOSAIC-logosmall.gif</td>\n",
       "      <td>127908</td>\n",
       "    </tr>\n",
       "    <tr>\n",
       "      <th>3</th>\n",
       "      <td>/images/USA-logosmall.gif</td>\n",
       "      <td>127074</td>\n",
       "    </tr>\n",
       "    <tr>\n",
       "      <th>4</th>\n",
       "      <td>/images/WORLD-logosmall.gif</td>\n",
       "      <td>125925</td>\n",
       "    </tr>\n",
       "    <tr>\n",
       "      <th>5</th>\n",
       "      <td>/images/ksclogo-medium.gif</td>\n",
       "      <td>121572</td>\n",
       "    </tr>\n",
       "    <tr>\n",
       "      <th>6</th>\n",
       "      <td>/ksc.html</td>\n",
       "      <td>83909</td>\n",
       "    </tr>\n",
       "    <tr>\n",
       "      <th>7</th>\n",
       "      <td>/images/launch-logo.gif</td>\n",
       "      <td>76006</td>\n",
       "    </tr>\n",
       "    <tr>\n",
       "      <th>8</th>\n",
       "      <td>/history/apollo/images/apollo-logo1.gif</td>\n",
       "      <td>68896</td>\n",
       "    </tr>\n",
       "    <tr>\n",
       "      <th>9</th>\n",
       "      <td>/shuttle/countdown/</td>\n",
       "      <td>64736</td>\n",
       "    </tr>\n",
       "    <tr>\n",
       "      <th>10</th>\n",
       "      <td>/</td>\n",
       "      <td>63171</td>\n",
       "    </tr>\n",
       "    <tr>\n",
       "      <th>11</th>\n",
       "      <td>/images/ksclogosmall.gif</td>\n",
       "      <td>61393</td>\n",
       "    </tr>\n",
       "    <tr>\n",
       "      <th>12</th>\n",
       "      <td>/shuttle/missions/missions.html</td>\n",
       "      <td>47315</td>\n",
       "    </tr>\n",
       "    <tr>\n",
       "      <th>13</th>\n",
       "      <td>/images/launchmedium.gif</td>\n",
       "      <td>40687</td>\n",
       "    </tr>\n",
       "    <tr>\n",
       "      <th>14</th>\n",
       "      <td>/htbin/cdt_main.pl</td>\n",
       "      <td>39871</td>\n",
       "    </tr>\n",
       "    <tr>\n",
       "      <th>15</th>\n",
       "      <td>/shuttle/missions/sts-69/mission-sts-69.html</td>\n",
       "      <td>31574</td>\n",
       "    </tr>\n",
       "    <tr>\n",
       "      <th>16</th>\n",
       "      <td>/shuttle/countdown/liftoff.html</td>\n",
       "      <td>29865</td>\n",
       "    </tr>\n",
       "    <tr>\n",
       "      <th>17</th>\n",
       "      <td>/icons/menu.xbm</td>\n",
       "      <td>29190</td>\n",
       "    </tr>\n",
       "    <tr>\n",
       "      <th>18</th>\n",
       "      <td>/shuttle/missions/sts-69/sts-69-patch-small.gif</td>\n",
       "      <td>29118</td>\n",
       "    </tr>\n",
       "    <tr>\n",
       "      <th>19</th>\n",
       "      <td>/icons/blank.xbm</td>\n",
       "      <td>28852</td>\n",
       "    </tr>\n",
       "  </tbody>\n",
       "</table>\n",
       "</div>"
      ]
     },
     "metadata": {
      "application/vnd.databricks.v1+output": {
       "addedWidgets": {},
       "arguments": {},
       "data": "<div>\n<style scoped>\n    .dataframe tbody tr th:only-of-type {\n        vertical-align: middle;\n    }\n\n    .dataframe tbody tr th {\n        vertical-align: top;\n    }\n\n    .dataframe thead th {\n        text-align: right;\n    }\n</style>\n<table border=\"1\" class=\"dataframe\">\n  <thead>\n    <tr style=\"text-align: right;\">\n      <th></th>\n      <th>endpoint</th>\n      <th>count</th>\n    </tr>\n  </thead>\n  <tbody>\n    <tr>\n      <th>0</th>\n      <td>/images/NASA-logosmall.gif</td>\n      <td>208714</td>\n    </tr>\n    <tr>\n      <th>1</th>\n      <td>/images/KSC-logosmall.gif</td>\n      <td>164970</td>\n    </tr>\n    <tr>\n      <th>2</th>\n      <td>/images/MOSAIC-logosmall.gif</td>\n      <td>127908</td>\n    </tr>\n    <tr>\n      <th>3</th>\n      <td>/images/USA-logosmall.gif</td>\n      <td>127074</td>\n    </tr>\n    <tr>\n      <th>4</th>\n      <td>/images/WORLD-logosmall.gif</td>\n      <td>125925</td>\n    </tr>\n    <tr>\n      <th>5</th>\n      <td>/images/ksclogo-medium.gif</td>\n      <td>121572</td>\n    </tr>\n    <tr>\n      <th>6</th>\n      <td>/ksc.html</td>\n      <td>83909</td>\n    </tr>\n    <tr>\n      <th>7</th>\n      <td>/images/launch-logo.gif</td>\n      <td>76006</td>\n    </tr>\n    <tr>\n      <th>8</th>\n      <td>/history/apollo/images/apollo-logo1.gif</td>\n      <td>68896</td>\n    </tr>\n    <tr>\n      <th>9</th>\n      <td>/shuttle/countdown/</td>\n      <td>64736</td>\n    </tr>\n    <tr>\n      <th>10</th>\n      <td>/</td>\n      <td>63171</td>\n    </tr>\n    <tr>\n      <th>11</th>\n      <td>/images/ksclogosmall.gif</td>\n      <td>61393</td>\n    </tr>\n    <tr>\n      <th>12</th>\n      <td>/shuttle/missions/missions.html</td>\n      <td>47315</td>\n    </tr>\n    <tr>\n      <th>13</th>\n      <td>/images/launchmedium.gif</td>\n      <td>40687</td>\n    </tr>\n    <tr>\n      <th>14</th>\n      <td>/htbin/cdt_main.pl</td>\n      <td>39871</td>\n    </tr>\n    <tr>\n      <th>15</th>\n      <td>/shuttle/missions/sts-69/mission-sts-69.html</td>\n      <td>31574</td>\n    </tr>\n    <tr>\n      <th>16</th>\n      <td>/shuttle/countdown/liftoff.html</td>\n      <td>29865</td>\n    </tr>\n    <tr>\n      <th>17</th>\n      <td>/icons/menu.xbm</td>\n      <td>29190</td>\n    </tr>\n    <tr>\n      <th>18</th>\n      <td>/shuttle/missions/sts-69/sts-69-patch-small.gif</td>\n      <td>29118</td>\n    </tr>\n    <tr>\n      <th>19</th>\n      <td>/icons/blank.xbm</td>\n      <td>28852</td>\n    </tr>\n  </tbody>\n</table>\n</div>",
       "datasetInfos": [],
       "metadata": {},
       "removedWidgets": [],
       "textData": null,
       "type": "htmlSandbox"
      }
     },
     "output_type": "display_data"
    }
   ],
   "source": [
    "paths_pd_df = paths_df.toPandas()\n",
    "paths_pd_df"
   ]
  },
  {
   "cell_type": "markdown",
   "metadata": {
    "application/vnd.databricks.v1+cell": {
     "cellMetadata": {
      "byteLimit": 2048000,
      "rowLimit": 10000
     },
     "inputWidgets": {},
     "nuid": "f5034dd7-ee86-4975-9e1c-ff0606ba51fb",
     "showTitle": false,
     "title": ""
    },
    "colab_type": "text",
    "id": "LrK4j5aIXvDb"
   },
   "source": [
    "## Your Turn: Q8: Top Ten Error Endpoints\n",
    "\n",
    "What are the top ten endpoints requested which did not have return code 200 (HTTP Status OK)? \n",
    "\n",
    "Create a sorted list containing the endpoints and the number of times that they were accessed with a non-200 return code and show the top ten.\n",
    "\n",
    "Think about the steps that you need to perform to determine which endpoints did not have a 200 return code (combination of filtering, grouping, sorting and selecting the top ten aggregated records)"
   ]
  },
  {
   "cell_type": "code",
   "execution_count": null,
   "metadata": {
    "application/vnd.databricks.v1+cell": {
     "cellMetadata": {
      "byteLimit": 2048000,
      "rowLimit": 10000
     },
     "inputWidgets": {},
     "nuid": "392770ce-30e9-4572-9363-fa14decb3b25",
     "showTitle": false,
     "title": ""
    },
    "colab": {},
    "colab_type": "code",
    "id": "s57_3ODMXvDc",
    "outputId": "d25e0c40-eaff-459a-9fd4-40666e226d28"
   },
   "outputs": [],
   "source": [
    "# TODO: Replace <FILL IN> with appropriate code\n",
    "\n",
    "not200_df = logs_df[(logs_df['status'] != 200)]\n",
    "\n",
    "error_endpoints_freq_df = (not200_df\n",
    "                                .groupBy('endpoint')\n",
    "                                .count()\n",
    "                                .sort('count',ascending=False)\n",
    "                                .cache()\n",
    "                                .limit(10))"
   ]
  },
  {
   "cell_type": "code",
   "execution_count": null,
   "metadata": {
    "application/vnd.databricks.v1+cell": {
     "cellMetadata": {
      "byteLimit": 2048000,
      "rowLimit": 10000
     },
     "inputWidgets": {},
     "nuid": "ba701b61-6e10-4c3c-ab33-9dd51836bbc3",
     "showTitle": false,
     "title": ""
    },
    "colab": {},
    "colab_type": "code",
    "id": "GeAUAEMBXvDh",
    "outputId": "a5bc7840-a464-47ae-f014-9e3108c2b306"
   },
   "outputs": [
    {
     "name": "stdout",
     "output_type": "stream",
     "text": [
      "+---------------------------------------+-----+\n",
      "|endpoint                               |count|\n",
      "+---------------------------------------+-----+\n",
      "|/images/NASA-logosmall.gif             |40082|\n",
      "|/images/KSC-logosmall.gif              |23763|\n",
      "|/images/MOSAIC-logosmall.gif           |15245|\n",
      "|/images/USA-logosmall.gif              |15142|\n",
      "|/images/WORLD-logosmall.gif            |14773|\n",
      "|/images/ksclogo-medium.gif             |13559|\n",
      "|/images/launch-logo.gif                |8806 |\n",
      "|/history/apollo/images/apollo-logo1.gif|7489 |\n",
      "|/                                      |6296 |\n",
      "|/images/ksclogosmall.gif               |5669 |\n",
      "+---------------------------------------+-----+\n",
      "\n"
     ]
    }
   ],
   "source": [
    "error_endpoints_freq_df.show(truncate=False)"
   ]
  },
  {
   "cell_type": "markdown",
   "metadata": {
    "application/vnd.databricks.v1+cell": {
     "cellMetadata": {
      "byteLimit": 2048000,
      "rowLimit": 10000
     },
     "inputWidgets": {},
     "nuid": "1648cee4-d384-4118-aba8-579b93f08613",
     "showTitle": false,
     "title": ""
    },
    "colab_type": "text",
    "id": "ij1wJnMwXvDm"
   },
   "source": [
    "## Example: Number of Unique Daily Hosts\n",
    "\n",
    "For an advanced example, let's look at a way to determine the number of unique hosts in the entire log on a day-by-day basis. This computation will give us counts of the number of unique daily hosts. \n",
    "\n",
    "We'd like a DataFrame sorted by increasing day of the month which includes the day of the month and the associated number of unique hosts for that day. \n",
    "\n",
    "Think about the steps that you need to perform to count the number of different hosts that make requests *each* day.\n",
    "*Since the log only covers a single month, you can ignore the month.*  You may want to use the [`dayofmonth` function](https://spark.apache.org/docs/latest/api/python/pyspark.sql.html#pyspark.sql.functions.dayofmonth) in the `pyspark.sql.functions` module (which we have already imported as __`F`__.\n",
    "\n",
    "\n",
    "**`host_day_df`**\n",
    "\n",
    "A DataFrame with two columns\n",
    "\n",
    "| column | explanation          |\n",
    "| ------ | -------------------- |\n",
    "| `host` | the host name        |\n",
    "| `day`  | the day of the month |\n",
    "\n",
    "There will be one row in this DataFrame for each row in `logs_df`. Essentially, we are just transforming each row of `logs_df`. For example, for this row in `logs_df`:\n",
    "\n",
    "```\n",
    "unicomp6.unicomp.net - - [01/Aug/1995:00:35:41 -0400] \"GET /shuttle/missions/sts-73/news HTTP/1.0\" 302 -\n",
    "```\n",
    "\n",
    "your `host_day_df` should have:\n",
    "\n",
    "```\n",
    "unicomp6.unicomp.net 1\n",
    "```"
   ]
  },
  {
   "cell_type": "code",
   "execution_count": null,
   "metadata": {
    "application/vnd.databricks.v1+cell": {
     "cellMetadata": {
      "byteLimit": 2048000,
      "rowLimit": 10000
     },
     "inputWidgets": {},
     "nuid": "cc3387a5-7d89-4bdc-8f42-261c7c95313e",
     "showTitle": false,
     "title": ""
    },
    "colab": {},
    "colab_type": "code",
    "id": "c0i7-gm9XvDm",
    "outputId": "ef93f5a2-e15d-4631-cbb7-e390dd0c28f0"
   },
   "outputs": [
    {
     "name": "stdout",
     "output_type": "stream",
     "text": [
      "+-----------------+---+\n",
      "|host             |day|\n",
      "+-----------------+---+\n",
      "|in24.inetnebr.com|1  |\n",
      "|uplherc.upl.com  |1  |\n",
      "|uplherc.upl.com  |1  |\n",
      "|uplherc.upl.com  |1  |\n",
      "|uplherc.upl.com  |1  |\n",
      "+-----------------+---+\n",
      "only showing top 5 rows\n",
      "\n"
     ]
    }
   ],
   "source": [
    "host_day_df = logs_df.select(logs_df.host, \n",
    "                             F.dayofmonth('time').alias('day'))\n",
    "host_day_df.show(5, truncate=False)"
   ]
  },
  {
   "cell_type": "markdown",
   "metadata": {
    "application/vnd.databricks.v1+cell": {
     "cellMetadata": {
      "byteLimit": 2048000,
      "rowLimit": 10000
     },
     "inputWidgets": {},
     "nuid": "68364f26-f853-4697-a2c6-39ae5ae17302",
     "showTitle": false,
     "title": ""
    },
    "colab_type": "text",
    "id": "HRu_5V4bXvDs"
   },
   "source": [
    "**`host_day_distinct_df`**\n",
    "\n",
    "This DataFrame has the same columns as `host_day_distinct_df`, but with duplicate (`day`, `host`) rows removed."
   ]
  },
  {
   "cell_type": "code",
   "execution_count": null,
   "metadata": {
    "application/vnd.databricks.v1+cell": {
     "cellMetadata": {
      "byteLimit": 2048000,
      "rowLimit": 10000
     },
     "inputWidgets": {},
     "nuid": "9b89cd99-b137-4677-8229-80c745795197",
     "showTitle": false,
     "title": ""
    },
    "colab": {},
    "colab_type": "code",
    "id": "be9KD86vXvDt",
    "outputId": "013470c7-93ab-4c4a-945a-af4c212c85d7"
   },
   "outputs": [
    {
     "name": "stdout",
     "output_type": "stream",
     "text": [
      "+---------------------------+---+\n",
      "|host                       |day|\n",
      "+---------------------------+---+\n",
      "|in24.inetnebr.com          |1  |\n",
      "|slppp6.intermind.net       |1  |\n",
      "|piweba4y.prodigy.com       |1  |\n",
      "|uplherc.upl.com            |1  |\n",
      "|ix-esc-ca2-07.ix.netcom.com|1  |\n",
      "+---------------------------+---+\n",
      "only showing top 5 rows\n",
      "\n"
     ]
    }
   ],
   "source": [
    "host_day_distinct_df = (host_day_df\n",
    "                          .dropDuplicates())\n",
    "host_day_distinct_df.show(5, truncate=False)"
   ]
  },
  {
   "cell_type": "markdown",
   "metadata": {
    "application/vnd.databricks.v1+cell": {
     "cellMetadata": {
      "byteLimit": 2048000,
      "rowLimit": 10000
     },
     "inputWidgets": {},
     "nuid": "1f8deb69-4dc7-4e7d-a16c-de4f574f675d",
     "showTitle": false,
     "title": ""
    },
    "colab_type": "text",
    "id": "OlCEA952XvDv"
   },
   "source": [
    "**`daily_unique_hosts_df`**\n",
    "\n",
    "A DataFrame with two columns:\n",
    "\n",
    "| column  | explanation                                        |\n",
    "| ------- | -------------------------------------------------- |\n",
    "| `day`   | the day of the month                               |\n",
    "| `count` | the number of unique requesting hosts for that day |"
   ]
  },
  {
   "cell_type": "code",
   "execution_count": null,
   "metadata": {
    "application/vnd.databricks.v1+cell": {
     "cellMetadata": {
      "byteLimit": 2048000,
      "rowLimit": 10000
     },
     "inputWidgets": {},
     "nuid": "2682c172-71e9-4b1e-8ca2-059e1bbfbe77",
     "showTitle": false,
     "title": ""
    },
    "colab": {},
    "colab_type": "code",
    "id": "TrVQJOKPXvDv",
    "outputId": "875f282f-13f6-4f9c-b4ee-a8f867f2955f"
   },
   "outputs": [
    {
     "data": {
      "text/html": [
       "<div>\n",
       "<style scoped>\n",
       "    .dataframe tbody tr th:only-of-type {\n",
       "        vertical-align: middle;\n",
       "    }\n",
       "\n",
       "    .dataframe tbody tr th {\n",
       "        vertical-align: top;\n",
       "    }\n",
       "\n",
       "    .dataframe thead th {\n",
       "        text-align: right;\n",
       "    }\n",
       "</style>\n",
       "<table border=\"1\" class=\"dataframe\">\n",
       "  <thead>\n",
       "    <tr style=\"text-align: right;\">\n",
       "      <th></th>\n",
       "      <th>0</th>\n",
       "      <th>1</th>\n",
       "      <th>2</th>\n",
       "      <th>3</th>\n",
       "      <th>4</th>\n",
       "      <th>5</th>\n",
       "      <th>6</th>\n",
       "      <th>7</th>\n",
       "      <th>8</th>\n",
       "      <th>9</th>\n",
       "      <th>...</th>\n",
       "      <th>21</th>\n",
       "      <th>22</th>\n",
       "      <th>23</th>\n",
       "      <th>24</th>\n",
       "      <th>25</th>\n",
       "      <th>26</th>\n",
       "      <th>27</th>\n",
       "      <th>28</th>\n",
       "      <th>29</th>\n",
       "      <th>30</th>\n",
       "    </tr>\n",
       "  </thead>\n",
       "  <tbody>\n",
       "    <tr>\n",
       "      <th>day</th>\n",
       "      <td>1</td>\n",
       "      <td>2</td>\n",
       "      <td>3</td>\n",
       "      <td>4</td>\n",
       "      <td>5</td>\n",
       "      <td>6</td>\n",
       "      <td>7</td>\n",
       "      <td>8</td>\n",
       "      <td>9</td>\n",
       "      <td>10</td>\n",
       "      <td>...</td>\n",
       "      <td>22</td>\n",
       "      <td>23</td>\n",
       "      <td>24</td>\n",
       "      <td>25</td>\n",
       "      <td>26</td>\n",
       "      <td>27</td>\n",
       "      <td>28</td>\n",
       "      <td>29</td>\n",
       "      <td>30</td>\n",
       "      <td>31</td>\n",
       "    </tr>\n",
       "    <tr>\n",
       "      <th>count</th>\n",
       "      <td>7609</td>\n",
       "      <td>4858</td>\n",
       "      <td>10238</td>\n",
       "      <td>9411</td>\n",
       "      <td>9640</td>\n",
       "      <td>10133</td>\n",
       "      <td>10048</td>\n",
       "      <td>7112</td>\n",
       "      <td>6699</td>\n",
       "      <td>8532</td>\n",
       "      <td>...</td>\n",
       "      <td>6828</td>\n",
       "      <td>6797</td>\n",
       "      <td>7946</td>\n",
       "      <td>8333</td>\n",
       "      <td>6741</td>\n",
       "      <td>6846</td>\n",
       "      <td>6090</td>\n",
       "      <td>4825</td>\n",
       "      <td>5265</td>\n",
       "      <td>5913</td>\n",
       "    </tr>\n",
       "  </tbody>\n",
       "</table>\n",
       "<p>2 rows × 31 columns</p>\n",
       "</div>"
      ]
     },
     "metadata": {
      "application/vnd.databricks.v1+output": {
       "addedWidgets": {},
       "arguments": {},
       "data": "<div>\n<style scoped>\n    .dataframe tbody tr th:only-of-type {\n        vertical-align: middle;\n    }\n\n    .dataframe tbody tr th {\n        vertical-align: top;\n    }\n\n    .dataframe thead th {\n        text-align: right;\n    }\n</style>\n<table border=\"1\" class=\"dataframe\">\n  <thead>\n    <tr style=\"text-align: right;\">\n      <th></th>\n      <th>0</th>\n      <th>1</th>\n      <th>2</th>\n      <th>3</th>\n      <th>4</th>\n      <th>5</th>\n      <th>6</th>\n      <th>7</th>\n      <th>8</th>\n      <th>9</th>\n      <th>...</th>\n      <th>21</th>\n      <th>22</th>\n      <th>23</th>\n      <th>24</th>\n      <th>25</th>\n      <th>26</th>\n      <th>27</th>\n      <th>28</th>\n      <th>29</th>\n      <th>30</th>\n    </tr>\n  </thead>\n  <tbody>\n    <tr>\n      <th>day</th>\n      <td>1</td>\n      <td>2</td>\n      <td>3</td>\n      <td>4</td>\n      <td>5</td>\n      <td>6</td>\n      <td>7</td>\n      <td>8</td>\n      <td>9</td>\n      <td>10</td>\n      <td>...</td>\n      <td>22</td>\n      <td>23</td>\n      <td>24</td>\n      <td>25</td>\n      <td>26</td>\n      <td>27</td>\n      <td>28</td>\n      <td>29</td>\n      <td>30</td>\n      <td>31</td>\n    </tr>\n    <tr>\n      <th>count</th>\n      <td>7609</td>\n      <td>4858</td>\n      <td>10238</td>\n      <td>9411</td>\n      <td>9640</td>\n      <td>10133</td>\n      <td>10048</td>\n      <td>7112</td>\n      <td>6699</td>\n      <td>8532</td>\n      <td>...</td>\n      <td>6828</td>\n      <td>6797</td>\n      <td>7946</td>\n      <td>8333</td>\n      <td>6741</td>\n      <td>6846</td>\n      <td>6090</td>\n      <td>4825</td>\n      <td>5265</td>\n      <td>5913</td>\n    </tr>\n  </tbody>\n</table>\n<p>2 rows × 31 columns</p>\n</div>",
       "datasetInfos": [],
       "metadata": {},
       "removedWidgets": [],
       "textData": null,
       "type": "htmlSandbox"
      }
     },
     "output_type": "display_data"
    }
   ],
   "source": [
    "daily_hosts_df = (host_day_distinct_df\n",
    "                     .groupBy('day')\n",
    "                     .count()\n",
    "                     .sort(\"day\"))\n",
    "daily_hosts_df = daily_hosts_df.toPandas()\n",
    "daily_hosts_df.T"
   ]
  },
  {
   "cell_type": "code",
   "execution_count": null,
   "metadata": {
    "application/vnd.databricks.v1+cell": {
     "cellMetadata": {
      "byteLimit": 2048000,
      "rowLimit": 10000
     },
     "inputWidgets": {},
     "nuid": "c1c457fc-5e79-4bff-9067-48769f41fa95",
     "showTitle": false,
     "title": ""
    },
    "colab": {},
    "colab_type": "code",
    "id": "PUdqNQHiXvDz"
   },
   "outputs": [
    {
     "name": "stdout",
     "output_type": "stream",
     "text": [
      "Out[134]: <AxesSubplot:xlabel='day'>"
     ]
    },
    {
     "data": {
      "image/png": "[encoded data removed]"
     },
     "metadata": {
      "application/vnd.databricks.v1+output": {
       "addedWidgets": {},
       "arguments": {},
       "data": "data:image/png;base64,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\n",
       "datasetInfos": [],
       "metadata": {},
       "removedWidgets": [],
       "type": "image"
      }
     },
     "output_type": "display_data"
    }
   ],
   "source": [
    "daily_hosts_df.plot(x='day', y='count', kind='line')"
   ]
  },
  {
   "cell_type": "markdown",
   "metadata": {
    "application/vnd.databricks.v1+cell": {
     "cellMetadata": {
      "byteLimit": 2048000,
      "rowLimit": 10000
     },
     "inputWidgets": {},
     "nuid": "61c7662b-6071-4271-8847-9b2a7fcbb250",
     "showTitle": false,
     "title": ""
    },
    "colab_type": "text",
    "id": "O5M-HoWHXvD1"
   },
   "source": [
    "## Your Turn: Q9: Counting 404 Response Codes\n",
    "\n",
    "Create a DataFrame containing only log records with a 404 status code (Not Found). \n",
    "\n",
    "Make sure you `cache()` the `not_found_df` dataframe as we will use it in the rest of the exercises here.\n",
    "\n",
    "__How many 404 records are in the log?__"
   ]
  },
  {
   "cell_type": "code",
   "execution_count": null,
   "metadata": {
    "application/vnd.databricks.v1+cell": {
     "cellMetadata": {
      "byteLimit": 2048000,
      "rowLimit": 10000
     },
     "inputWidgets": {},
     "nuid": "b0a8c901-ee97-42d2-a0b1-d34604131db3",
     "showTitle": false,
     "title": ""
    },
    "colab": {},
    "colab_type": "code",
    "id": "XovkxrduXvD2",
    "outputId": "662c54ce-9fd3-4d97-dbf5-30a1a77b90f9"
   },
   "outputs": [
    {
     "name": "stdout",
     "output_type": "stream",
     "text": [
      "Total 404 responses: 20899\n"
     ]
    }
   ],
   "source": [
    "# TODO: Replace <FILL IN> with appropriate code\n",
    "\n",
    "not_found_df = logs_df[(logs_df['status'] == 404)]\n",
    "print(('Total 404 responses: {}').format(not_found_df.count()))"
   ]
  },
  {
   "cell_type": "markdown",
   "metadata": {
    "application/vnd.databricks.v1+cell": {
     "cellMetadata": {
      "byteLimit": 2048000,
      "rowLimit": 10000
     },
     "inputWidgets": {},
     "nuid": "42e5dd0c-b1a6-4f82-a8c0-1b2b7f8a83b0",
     "showTitle": false,
     "title": ""
    },
    "colab_type": "text",
    "id": "wdwYDLCnXvD5"
   },
   "source": [
    "## Your Turn: Q10: Listing the Top Twenty 404 Response Code Endpoints\n",
    "\n",
    "Using the DataFrame containing only log records with a 404 response code that you cached in Q9, print out a list of the top twenty endpoints that generate the most 404 errors.\n",
    "\n",
    "*Remember, top endpoints should be in sorted order*"
   ]
  },
  {
   "cell_type": "code",
   "execution_count": null,
   "metadata": {
    "application/vnd.databricks.v1+cell": {
     "cellMetadata": {
      "byteLimit": 2048000,
      "rowLimit": 10000
     },
     "inputWidgets": {},
     "nuid": "cb906d4a-5746-46b0-9f6d-e4d537ac25d1",
     "showTitle": false,
     "title": ""
    },
    "colab": {},
    "colab_type": "code",
    "id": "Gv3egQAEXvD5",
    "outputId": "6725f87c-1cd4-4387-f61f-9c7cd58f1f93"
   },
   "outputs": [
    {
     "name": "stdout",
     "output_type": "stream",
     "text": [
      "+-----------------------------------------------------------------+-----+\n",
      "|endpoint                                                         |count|\n",
      "+-----------------------------------------------------------------+-----+\n",
      "|/pub/winvn/readme.txt                                            |2004 |\n",
      "|/pub/winvn/release.txt                                           |1732 |\n",
      "|/shuttle/missions/STS-69/mission-STS-69.html                     |683  |\n",
      "|/shuttle/missions/sts-68/ksc-upclose.gif                         |428  |\n",
      "|/history/apollo/a-001/a-001-patch-small.gif                      |384  |\n",
      "|/history/apollo/sa-1/sa-1-patch-small.gif                        |383  |\n",
      "|/://spacelink.msfc.nasa.gov                                      |381  |\n",
      "|/images/crawlerway-logo.gif                                      |374  |\n",
      "|/elv/DELTA/uncons.htm                                            |372  |\n",
      "|/history/apollo/pad-abort-test-1/pad-abort-test-1-patch-small.gif|359  |\n",
      "|/images/nasa-logo.gif                                            |319  |\n",
      "|/shuttle/resources/orbiters/atlantis.gif                         |314  |\n",
      "|/history/apollo/apollo-13.html                                   |304  |\n",
      "|/shuttle/resources/orbiters/discovery.gif                        |263  |\n",
      "|/shuttle/missions/sts-71/images/KSC-95EC-0916.txt                |190  |\n",
      "|/shuttle/resources/orbiters/challenger.gif                       |170  |\n",
      "|/shuttle/missions/technology/sts-newsref/stsref-toc.html         |158  |\n",
      "|/history/apollo/images/little-joe.jpg                            |150  |\n",
      "|/images/lf-logo.gif                                              |143  |\n",
      "|/history/apollo/publications/sp-350/sp-350.txt~                  |140  |\n",
      "+-----------------------------------------------------------------+-----+\n",
      "only showing top 20 rows\n",
      "\n"
     ]
    }
   ],
   "source": [
    "# TODO: Replace <FILL IN> with appropriate code\n",
    "\n",
    "hosts_404_count_df = (not_found_df\n",
    "                          .groupBy('endpoint')\n",
    "                          .count()\n",
    "                          .sort('count',ascending=False))\n",
    "\n",
    "hosts_404_count_df.show(truncate=False)"
   ]
  },
  {
   "cell_type": "markdown",
   "metadata": {
    "application/vnd.databricks.v1+cell": {
     "cellMetadata": {
      "byteLimit": 2048000,
      "rowLimit": 10000
     },
     "inputWidgets": {},
     "nuid": "dc205bd2-cdab-4967-b45a-ea2889d58000",
     "showTitle": false,
     "title": ""
    },
    "colab_type": "text",
    "id": "UpQl8xaPXvD8"
   },
   "source": [
    "## Your Turn: Q11: Visualizing 404 Errors per Day\n",
    "\n",
    "Let's explore the 404 records temporally now. Similar to the example showing the number of unique daily hosts, break down the 404 requests by day and get the daily counts sorted by day in `errors_by_date_sorted_df`.\n",
    "\n",
    "- Display the results as a pandas dataframe \n",
    "- Also visualize the same dataframe then as a line chart"
   ]
  },
  {
   "cell_type": "code",
   "execution_count": null,
   "metadata": {
    "application/vnd.databricks.v1+cell": {
     "cellMetadata": {
      "byteLimit": 2048000,
      "rowLimit": 10000
     },
     "inputWidgets": {},
     "nuid": "066c0411-2c13-449b-b107-0edf7cff2284",
     "showTitle": false,
     "title": ""
    },
    "colab": {},
    "colab_type": "code",
    "id": "69N8tHpzXvD9",
    "outputId": "1746aabb-b068-43c0-bbe6-580c3fce7639"
   },
   "outputs": [
    {
     "data": {
      "text/html": [
       "<div>\n",
       "<style scoped>\n",
       "    .dataframe tbody tr th:only-of-type {\n",
       "        vertical-align: middle;\n",
       "    }\n",
       "\n",
       "    .dataframe tbody tr th {\n",
       "        vertical-align: top;\n",
       "    }\n",
       "\n",
       "    .dataframe thead th {\n",
       "        text-align: right;\n",
       "    }\n",
       "</style>\n",
       "<table border=\"1\" class=\"dataframe\">\n",
       "  <thead>\n",
       "    <tr style=\"text-align: right;\">\n",
       "      <th></th>\n",
       "      <th>0</th>\n",
       "      <th>1</th>\n",
       "      <th>2</th>\n",
       "      <th>3</th>\n",
       "      <th>4</th>\n",
       "      <th>5</th>\n",
       "      <th>6</th>\n",
       "      <th>7</th>\n",
       "      <th>8</th>\n",
       "      <th>9</th>\n",
       "      <th>...</th>\n",
       "      <th>21</th>\n",
       "      <th>22</th>\n",
       "      <th>23</th>\n",
       "      <th>24</th>\n",
       "      <th>25</th>\n",
       "      <th>26</th>\n",
       "      <th>27</th>\n",
       "      <th>28</th>\n",
       "      <th>29</th>\n",
       "      <th>30</th>\n",
       "    </tr>\n",
       "  </thead>\n",
       "  <tbody>\n",
       "    <tr>\n",
       "      <th>day</th>\n",
       "      <td>1</td>\n",
       "      <td>2</td>\n",
       "      <td>3</td>\n",
       "      <td>4</td>\n",
       "      <td>5</td>\n",
       "      <td>6</td>\n",
       "      <td>7</td>\n",
       "      <td>8</td>\n",
       "      <td>9</td>\n",
       "      <td>10</td>\n",
       "      <td>...</td>\n",
       "      <td>22</td>\n",
       "      <td>23</td>\n",
       "      <td>24</td>\n",
       "      <td>25</td>\n",
       "      <td>26</td>\n",
       "      <td>27</td>\n",
       "      <td>28</td>\n",
       "      <td>29</td>\n",
       "      <td>30</td>\n",
       "      <td>31</td>\n",
       "    </tr>\n",
       "    <tr>\n",
       "      <th>count</th>\n",
       "      <td>559</td>\n",
       "      <td>291</td>\n",
       "      <td>778</td>\n",
       "      <td>705</td>\n",
       "      <td>733</td>\n",
       "      <td>1013</td>\n",
       "      <td>1107</td>\n",
       "      <td>691</td>\n",
       "      <td>627</td>\n",
       "      <td>713</td>\n",
       "      <td>...</td>\n",
       "      <td>480</td>\n",
       "      <td>578</td>\n",
       "      <td>748</td>\n",
       "      <td>876</td>\n",
       "      <td>702</td>\n",
       "      <td>706</td>\n",
       "      <td>504</td>\n",
       "      <td>420</td>\n",
       "      <td>571</td>\n",
       "      <td>526</td>\n",
       "    </tr>\n",
       "  </tbody>\n",
       "</table>\n",
       "<p>2 rows × 31 columns</p>\n",
       "</div>"
      ]
     },
     "metadata": {
      "application/vnd.databricks.v1+output": {
       "addedWidgets": {},
       "arguments": {},
       "data": "<div>\n<style scoped>\n    .dataframe tbody tr th:only-of-type {\n        vertical-align: middle;\n    }\n\n    .dataframe tbody tr th {\n        vertical-align: top;\n    }\n\n    .dataframe thead th {\n        text-align: right;\n    }\n</style>\n<table border=\"1\" class=\"dataframe\">\n  <thead>\n    <tr style=\"text-align: right;\">\n      <th></th>\n      <th>0</th>\n      <th>1</th>\n      <th>2</th>\n      <th>3</th>\n      <th>4</th>\n      <th>5</th>\n      <th>6</th>\n      <th>7</th>\n      <th>8</th>\n      <th>9</th>\n      <th>...</th>\n      <th>21</th>\n      <th>22</th>\n      <th>23</th>\n      <th>24</th>\n      <th>25</th>\n      <th>26</th>\n      <th>27</th>\n      <th>28</th>\n      <th>29</th>\n      <th>30</th>\n    </tr>\n  </thead>\n  <tbody>\n    <tr>\n      <th>day</th>\n      <td>1</td>\n      <td>2</td>\n      <td>3</td>\n      <td>4</td>\n      <td>5</td>\n      <td>6</td>\n      <td>7</td>\n      <td>8</td>\n      <td>9</td>\n      <td>10</td>\n      <td>...</td>\n      <td>22</td>\n      <td>23</td>\n      <td>24</td>\n      <td>25</td>\n      <td>26</td>\n      <td>27</td>\n      <td>28</td>\n      <td>29</td>\n      <td>30</td>\n      <td>31</td>\n    </tr>\n    <tr>\n      <th>count</th>\n      <td>559</td>\n      <td>291</td>\n      <td>778</td>\n      <td>705</td>\n      <td>733</td>\n      <td>1013</td>\n      <td>1107</td>\n      <td>691</td>\n      <td>627</td>\n      <td>713</td>\n      <td>...</td>\n      <td>480</td>\n      <td>578</td>\n      <td>748</td>\n      <td>876</td>\n      <td>702</td>\n      <td>706</td>\n      <td>504</td>\n      <td>420</td>\n      <td>571</td>\n      <td>526</td>\n    </tr>\n  </tbody>\n</table>\n<p>2 rows × 31 columns</p>\n</div>",
       "datasetInfos": [],
       "metadata": {},
       "removedWidgets": [],
       "textData": null,
       "type": "htmlSandbox"
      }
     },
     "output_type": "display_data"
    }
   ],
   "source": [
    "# TODO: Replace <FILL IN> with appropriate code\n",
    "\n",
    "errors_by_date_sorted_df = (not_found_df\n",
    "                                .select(F.dayofmonth('time').alias('day'))\n",
    "                                .groupBy('day')\n",
    "                                .count()\n",
    "                                .sort('day'))\n",
    "\n",
    "errors_by_date_sorted_df = errors_by_date_sorted_df.toPandas()\n",
    "errors_by_date_sorted_df.T"
   ]
  },
  {
   "cell_type": "code",
   "execution_count": null,
   "metadata": {
    "application/vnd.databricks.v1+cell": {
     "cellMetadata": {
      "byteLimit": 2048000,
      "rowLimit": 10000
     },
     "inputWidgets": {},
     "nuid": "b5eed7af-924e-4596-badd-c6cf2952f228",
     "showTitle": false,
     "title": ""
    },
    "colab": {},
    "colab_type": "code",
    "id": "y-pFX8dJXvD_"
   },
   "outputs": [
    {
     "name": "stdout",
     "output_type": "stream",
     "text": [
      "Out[138]: <AxesSubplot:xlabel='day'>"
     ]
    },
    {
     "data": {
      "image/png": "[encoded data removed]"
     },
     "metadata": {
      "application/vnd.databricks.v1+output": {
       "addedWidgets": {},
       "arguments": {},
       "data": "data:image/png;base64,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\n",
       "datasetInfos": [],
       "metadata": {},
       "removedWidgets": [],
       "type": "image"
      }
     },
     "output_type": "display_data"
    }
   ],
   "source": [
    "errors_by_date_sorted_df.plot(kind='line',x='day',y='count')"
   ]
  },
  {
   "cell_type": "markdown",
   "metadata": {
    "application/vnd.databricks.v1+cell": {
     "cellMetadata": {
      "byteLimit": 2048000,
      "rowLimit": 10000
     },
     "inputWidgets": {},
     "nuid": "54272122-2f00-46c6-9e6f-562a2511425d",
     "showTitle": false,
     "title": ""
    },
    "colab_type": "text",
    "id": "lRY2RYHeXvED"
   },
   "source": [
    "## Your Turn: Q12: Visualizing Hourly 404 Errors\n",
    "\n",
    "Using the DataFrame `not_found_df` you cached in the Q10, group and sort by hour of the day in increasing order, to create a DataFrame containing the total number of 404 responses for HTTP requests for each hour of the day (midnight starts at 0). \n",
    "\n",
    "- Remember to check out the [__hour__](https://spark.apache.org/docs/latest/api/python/pyspark.sql.html#pyspark.sql.functions.hour) function and use it (we have already imported __`pyspark.sql.functions`__ as __`F`__ earlier\n",
    "- Output should be a bar graph displaying the total number of 404 errors per hour"
   ]
  },
  {
   "cell_type": "code",
   "execution_count": null,
   "metadata": {
    "application/vnd.databricks.v1+cell": {
     "cellMetadata": {
      "byteLimit": 2048000,
      "rowLimit": 10000
     },
     "inputWidgets": {},
     "nuid": "cd6a9036-a66d-4925-bac9-178ab611e4f9",
     "showTitle": false,
     "title": ""
    },
    "colab": {},
    "colab_type": "code",
    "id": "T7Y0Dbz3XvEF",
    "outputId": "873d829e-6b6d-4dc1-b894-0796ef91aec1"
   },
   "outputs": [],
   "source": [
    "hourly_avg_errors_sorted_df = (not_found_df\n",
    "                                    .select(F.hour('time').alias('hour'))\n",
    "                                    .groupBy('hour')\n",
    "                                    .count()\n",
    "                                    .sort('hour')).toPandas()"
   ]
  },
  {
   "cell_type": "code",
   "execution_count": null,
   "metadata": {
    "application/vnd.databricks.v1+cell": {
     "cellMetadata": {
      "byteLimit": 2048000,
      "rowLimit": 10000
     },
     "inputWidgets": {},
     "nuid": "5008fd1f-7bd6-471f-afc0-c68fa4a88cba",
     "showTitle": false,
     "title": ""
    },
    "colab": {},
    "colab_type": "code",
    "id": "R1vsAPs1XvEJ"
   },
   "outputs": [
    {
     "name": "stdout",
     "output_type": "stream",
     "text": [
      "Out[140]: <AxesSubplot:xlabel='hour'>"
     ]
    },
    {
     "data": {
      "image/png": "[encoded data removed]"
     },
     "metadata": {
      "application/vnd.databricks.v1+output": {
       "addedWidgets": {},
       "arguments": {},
       "data": "data:image/png;base64,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\n",
       "datasetInfos": [],
       "metadata": {},
       "removedWidgets": [],
       "type": "image"
      }
     },
     "output_type": "display_data"
    }
   ],
   "source": [
    "hourly_avg_errors_sorted_df.plot(kind='line',x='hour',y='count')"
   ]
  },
  {
   "cell_type": "markdown",
   "metadata": {
    "application/vnd.databricks.v1+cell": {
     "cellMetadata": {
      "byteLimit": 2048000,
      "rowLimit": 10000
     },
     "inputWidgets": {},
     "nuid": "820f020a-b56d-44f6-be53-3fe95710cecf",
     "showTitle": false,
     "title": ""
    },
    "colab_type": "text",
    "id": "GYWAsa8mY425"
   },
   "source": [
    "# Load Data"
   ]
  },
  {
   "cell_type": "markdown",
   "metadata": {
    "application/vnd.databricks.v1+cell": {
     "cellMetadata": {
      "byteLimit": 2048000,
      "rowLimit": 10000
     },
     "inputWidgets": {},
     "nuid": "6a94c74e-bb1a-4b20-b307-2a47c91d83ef",
     "showTitle": false,
     "title": ""
    },
    "colab_type": "text",
    "id": "woEUWlYCY9h0"
   },
   "source": [
    "Up till now, you have completed data extraction, data transformation, and some exploratory data analysis. In the end of this project, we will complete the last step of ETL process: data loading, so the data after  your processing, wrangling, cleaning, can be used by either yourself or other colleagues later. Since we have gone through a few iteration of data processing and data wrangling, it is a good idea to make sure which one is the current dataframe you want to store and load."
   ]
  },
  {
   "cell_type": "markdown",
   "metadata": {
    "application/vnd.databricks.v1+cell": {
     "cellMetadata": {
      "byteLimit": 2048000,
      "rowLimit": 10000
     },
     "inputWidgets": {},
     "nuid": "a679caae-3b9d-4a98-b444-78a48cb9de76",
     "showTitle": false,
     "title": ""
    },
    "colab_type": "text",
    "id": "gde50KFwZCyR"
   },
   "source": [
    "## Your Turn: Q13: Check data integrity before loading"
   ]
  },
  {
   "cell_type": "code",
   "execution_count": null,
   "metadata": {
    "application/vnd.databricks.v1+cell": {
     "cellMetadata": {
      "byteLimit": 2048000,
      "rowLimit": 10000
     },
     "inputWidgets": {},
     "nuid": "6ddd68d3-94f6-4d09-9a18-f1f2c247c268",
     "showTitle": false,
     "title": ""
    },
    "colab": {},
    "colab_type": "code",
    "id": "Jp9HtJDZZDgm",
    "outputId": "d94fda2f-0e91-401a-eb33-dfa58e5b8f0d"
   },
   "outputs": [
    {
     "name": "stdout",
     "output_type": "stream",
     "text": [
      "3461613\n",
      "['value']\n"
     ]
    }
   ],
   "source": [
    "print(base_df.count())\n",
    "print(base_df.columns)"
   ]
  },
  {
   "cell_type": "markdown",
   "metadata": {
    "application/vnd.databricks.v1+cell": {
     "cellMetadata": {
      "byteLimit": 2048000,
      "rowLimit": 10000
     },
     "inputWidgets": {},
     "nuid": "f4baba73-0ee3-412a-8d98-1fddc1a2a463",
     "showTitle": false,
     "title": ""
    },
    "colab_type": "text",
    "id": "6KT_ajIJZFsi"
   },
   "source": [
    "To save your dataframe in CSV file format, you call simply replace the name of the dataframe and assign file name in the following:"
   ]
  },
  {
   "cell_type": "markdown",
   "metadata": {
    "application/vnd.databricks.v1+cell": {
     "cellMetadata": {
      "byteLimit": 2048000,
      "rowLimit": 10000
     },
     "inputWidgets": {},
     "nuid": "46033013-b0f4-49f9-953b-b72832be06eb",
     "showTitle": false,
     "title": ""
    },
    "colab_type": "text",
    "id": "GuiBAZEqZJT1"
   },
   "source": [
    "## Your Turn: Q14: Save your data as a CSV file"
   ]
  },
  {
   "cell_type": "code",
   "execution_count": null,
   "metadata": {
    "application/vnd.databricks.v1+cell": {
     "cellMetadata": {
      "byteLimit": 2048000,
      "rowLimit": 10000
     },
     "inputWidgets": {},
     "nuid": "90d320d6-8fc9-48e6-8bd9-f8c03fc32a18",
     "showTitle": false,
     "title": ""
    },
    "colab": {},
    "colab_type": "code",
    "id": "DHLpKGA7ZP8P"
   },
   "outputs": [],
   "source": [
    "base_df.write.save(\"Base_df_\", format = 'csv')"
   ]
  },
  {
   "cell_type": "code",
   "execution_count": null,
   "metadata": {
    "application/vnd.databricks.v1+cell": {
     "cellMetadata": {
      "byteLimit": 2048000,
      "rowLimit": 10000
     },
     "inputWidgets": {},
     "nuid": "01760940-17e9-43bf-8ddc-8bf4cc28641b",
     "showTitle": false,
     "title": ""
    },
    "colab": {},
    "colab_type": "code",
    "id": "EJN6Xy76ZTkW"
   },
   "outputs": [
    {
     "name": "stdout",
     "output_type": "stream",
     "text": [
      "Out[152]: ['\"in24.inetnebr.com - - [01/Aug/1995:00:00:01 -0400] \\\\\"GET /shuttle/missions/sts-68/news/sts-68-mcc-05.txt HTTP/1.0\\\\\" 200 1839\"',\n",
      " '\"uplherc.upl.com - - [01/Aug/1995:00:00:07 -0400] \\\\\"GET / HTTP/1.0\\\\\" 304 0\"',\n",
      " '\"uplherc.upl.com - - [01/Aug/1995:00:00:08 -0400] \\\\\"GET /images/ksclogo-medium.gif HTTP/1.0\\\\\" 304 0\"',\n",
      " '\"uplherc.upl.com - - [01/Aug/1995:00:00:08 -0400] \\\\\"GET /images/MOSAIC-logosmall.gif HTTP/1.0\\\\\" 304 0\"',\n",
      " '\"uplherc.upl.com - - [01/Aug/1995:00:00:08 -0400] \\\\\"GET /images/USA-logosmall.gif HTTP/1.0\\\\\" 304 0\"']"
     ]
    }
   ],
   "source": [
    "spark\\\n",
    "\t.sparkContext\\\n",
    "\t.textFile(\"Base_df_\")\\\n",
    "\t.take(5)"
   ]
  },
  {
   "cell_type": "markdown",
   "metadata": {
    "application/vnd.databricks.v1+cell": {
     "cellMetadata": {
      "byteLimit": 2048000,
      "rowLimit": 10000
     },
     "inputWidgets": {},
     "nuid": "d27f8c46-7f80-48b0-a774-d198a565bd41",
     "showTitle": false,
     "title": ""
    },
    "colab_type": "text",
    "id": "nkz9rKU3ZV7S"
   },
   "source": [
    "Similarly, you can also store and load your dataframe as a JSON file by completing the following:"
   ]
  },
  {
   "cell_type": "markdown",
   "metadata": {
    "application/vnd.databricks.v1+cell": {
     "cellMetadata": {
      "byteLimit": 2048000,
      "rowLimit": 10000
     },
     "inputWidgets": {},
     "nuid": "0469359a-f495-4497-86d6-0246638d1c31",
     "showTitle": false,
     "title": ""
    },
    "colab_type": "text",
    "id": "l6N5oSjgZaiX"
   },
   "source": [
    "## Your Turn: Q15: Save your data as a JSON file"
   ]
  },
  {
   "cell_type": "code",
   "execution_count": null,
   "metadata": {
    "application/vnd.databricks.v1+cell": {
     "cellMetadata": {
      "byteLimit": 2048000,
      "rowLimit": 10000
     },
     "inputWidgets": {},
     "nuid": "89904b04-8fb1-40e6-b84b-bde410a819c2",
     "showTitle": false,
     "title": ""
    },
    "colab": {},
    "colab_type": "code",
    "id": "nPp5cHZeZZCQ"
   },
   "outputs": [],
   "source": [
    "base_df.write.save(\"Base_df_j-\", format = 'json')"
   ]
  },
  {
   "cell_type": "code",
   "execution_count": null,
   "metadata": {
    "application/vnd.databricks.v1+cell": {
     "cellMetadata": {
      "byteLimit": 2048000,
      "rowLimit": 10000
     },
     "inputWidgets": {},
     "nuid": "622524b8-dca8-4119-a971-8502ad29dcc1",
     "showTitle": false,
     "title": ""
    },
    "colab": {},
    "colab_type": "code",
    "id": "56w3oyaOZgiE"
   },
   "outputs": [
    {
     "name": "stdout",
     "output_type": "stream",
     "text": [
      "Out[154]: ['{\"value\":\"in24.inetnebr.com - - [01/Aug/1995:00:00:01 -0400] \\\\\"GET /shuttle/missions/sts-68/news/sts-68-mcc-05.txt HTTP/1.0\\\\\" 200 1839\"}',\n",
      " '{\"value\":\"uplherc.upl.com - - [01/Aug/1995:00:00:07 -0400] \\\\\"GET / HTTP/1.0\\\\\" 304 0\"}',\n",
      " '{\"value\":\"uplherc.upl.com - - [01/Aug/1995:00:00:08 -0400] \\\\\"GET /images/ksclogo-medium.gif HTTP/1.0\\\\\" 304 0\"}',\n",
      " '{\"value\":\"uplherc.upl.com - - [01/Aug/1995:00:00:08 -0400] \\\\\"GET /images/MOSAIC-logosmall.gif HTTP/1.0\\\\\" 304 0\"}',\n",
      " '{\"value\":\"uplherc.upl.com - - [01/Aug/1995:00:00:08 -0400] \\\\\"GET /images/USA-logosmall.gif HTTP/1.0\\\\\" 304 0\"}']"
     ]
    }
   ],
   "source": [
    "spark\\\n",
    "\t.sparkContext\\\n",
    "\t.textFile(\"Base_df_j-\")\\\n",
    "\t.take(5)"
   ]
  },
  {
   "cell_type": "markdown",
   "metadata": {
    "application/vnd.databricks.v1+cell": {
     "cellMetadata": {
      "byteLimit": 2048000,
      "rowLimit": 10000
     },
     "inputWidgets": {},
     "nuid": "22007f8c-5b19-4018-96c3-1d98fe0db58c",
     "showTitle": false,
     "title": ""
    },
    "colab_type": "text",
    "id": "P9zYYUIcZjUU"
   },
   "source": [
    "There is a lot more you can do about data storing and loading in terms of data formats and settings. Check out more about these options [__here__](https://spark.apache.org/docs/latest/sql-data-sources-load-save-functions.html)."
   ]
  },
  {
   "cell_type": "markdown",
   "metadata": {
    "application/vnd.databricks.v1+cell": {
     "cellMetadata": {
      "byteLimit": 2048000,
      "rowLimit": 10000
     },
     "inputWidgets": {},
     "nuid": "34b7e6e8-a963-40ac-ad26-a87570ec2691",
     "showTitle": false,
     "title": ""
    },
    "colab_type": "text",
    "id": "lLXpioWzZlug"
   },
   "source": [
    "### Congratulations! You have finished the mini-project for this unit!"
   ]
  }
 ],
 "metadata": {
  "application/vnd.databricks.v1+notebook": {
   "dashboards": [],
   "language": "python",
   "notebookMetadata": {
    "pythonIndentUnit": 4
   },
   "notebookName": "Mini_Project_Data_Wrangling_at_Scale_with_Spark",
   "widgets": {}
  },
  "colab": {
   "name": "Mini_Project_Data_Wrangling_at_Scale_with_Spark_checkpoint.ipynb",
   "provenance": []
  },
  "kernelspec": {
   "display_name": "Python 3 (ipykernel)",
   "language": "python",
   "name": "python3"
  },
  "language_info": {
   "codemirror_mode": {
    "name": "ipython",
    "version": 3
   },
   "file_extension": ".py",
   "mimetype": "text/x-python",
   "name": "python",
   "nbconvert_exporter": "python",
   "pygments_lexer": "ipython3",
   "version": "3.10.9"
  },
  "name": "Mini_Project_Data_Wrangling_at_Scale_with_Spark_Solutions_checkpoint",
  "notebookId": 3935650049725854
 },
 "nbformat": 4,
 "nbformat_minor": 4
}
